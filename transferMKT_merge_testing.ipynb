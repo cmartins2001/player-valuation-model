{
 "cells": [
  {
   "cell_type": "markdown",
   "metadata": {},
   "source": [
    "Importing transfermarkt data from Data World - David Cereijo"
   ]
  },
  {
   "cell_type": "code",
   "execution_count": null,
   "metadata": {},
   "outputs": [],
   "source": [
    "import pandas as pd\n",
    "import os\n",
    "\n",
    "repo_dir = os.getcwd()  # Directory of the script\n",
    "transferMKT_dir = os.path.join(repo_dir, 'transferMKT-data')"
   ]
  },
  {
   "cell_type": "markdown",
   "metadata": {},
   "source": [
    "Global Functions and Variables:"
   ]
  },
  {
   "cell_type": "code",
   "execution_count": null,
   "metadata": {},
   "outputs": [],
   "source": [
    "# Global Variables:\n",
    "my_leagues = ['ES1', 'IT1', 'GR1', 'GB1', 'FR1']\n",
    "player_cols = ['date_y', 'player_id', 'player_name', 'player_current_club_id', 'market_value_in_eur', 'player_club_domestic_competition_id']"
   ]
  },
  {
   "cell_type": "code",
   "execution_count": 111,
   "metadata": {},
   "outputs": [],
   "source": [
    "# Function that creates a CSV from a pandas df:\n",
    "def make_csv(df, dir, file_name):\n",
    "    file_path = os.path.join(dir, f'{file_name}.csv')\n",
    "    return df.to_csv(file_path, index=True)\n",
    "\n",
    "\n",
    "# Function that converts a datetime column to soccer season format (ex: 1819):\n",
    "def calculate_season(date):\n",
    "    year = date.year\n",
    "    month = date.month\n",
    "    if month in range(7,12):\n",
    "        return ((year - 2000) * 100) + (year - 1999)\n",
    "    else:\n",
    "        return ((year - 2001) * 100) + (year - 2000)"
   ]
  },
  {
   "cell_type": "markdown",
   "metadata": {},
   "source": [
    "Import and clean data using links from data world (DW):"
   ]
  },
  {
   "cell_type": "code",
   "execution_count": 112,
   "metadata": {},
   "outputs": [],
   "source": [
    "# Create a pandas df for the appearances file:\n",
    "appearances_df = pd.read_csv('https://query.data.world/s/2t4a5mgcrt7xb32ifpci2wijahs7fq?dws=00000')\n",
    "\n",
    "# Create a pandas dataframe for the appearances file:\n",
    "player_val_df = pd.read_csv('https://query.data.world/s/bxh6i5g3kll34aqabzszjbecgdzabm?dws=00000')\n",
    "\n",
    "# Create a pandas for the clubs file:\n",
    "clubs_df = pd.read_csv('https://query.data.world/s/4iac2yo5mskcbmy6xnsvahtxe5eakd?dws=00000')"
   ]
  },
  {
   "cell_type": "code",
   "execution_count": 120,
   "metadata": {},
   "outputs": [
    {
     "data": {
      "text/html": [
       "<div>\n",
       "<style scoped>\n",
       "    .dataframe tbody tr th:only-of-type {\n",
       "        vertical-align: middle;\n",
       "    }\n",
       "\n",
       "    .dataframe tbody tr th {\n",
       "        vertical-align: top;\n",
       "    }\n",
       "\n",
       "    .dataframe thead th {\n",
       "        text-align: right;\n",
       "    }\n",
       "</style>\n",
       "<table border=\"1\" class=\"dataframe\">\n",
       "  <thead>\n",
       "    <tr style=\"text-align: right;\">\n",
       "      <th></th>\n",
       "      <th>player_id</th>\n",
       "      <th>last_season</th>\n",
       "      <th>datetime</th>\n",
       "      <th>date</th>\n",
       "      <th>dateweek</th>\n",
       "      <th>market_value_in_eur</th>\n",
       "      <th>n</th>\n",
       "      <th>current_club_id</th>\n",
       "      <th>player_club_domestic_competition_id</th>\n",
       "    </tr>\n",
       "  </thead>\n",
       "  <tbody>\n",
       "    <tr>\n",
       "      <th>0</th>\n",
       "      <td>3132</td>\n",
       "      <td>2013</td>\n",
       "      <td>2003-12-09 00:00:00</td>\n",
       "      <td>2003-12-09</td>\n",
       "      <td>2003-12-08</td>\n",
       "      <td>400000</td>\n",
       "      <td>1</td>\n",
       "      <td>126</td>\n",
       "      <td>TR1</td>\n",
       "    </tr>\n",
       "    <tr>\n",
       "      <th>1</th>\n",
       "      <td>6893</td>\n",
       "      <td>2012</td>\n",
       "      <td>2003-12-15 00:00:00</td>\n",
       "      <td>2003-12-15</td>\n",
       "      <td>2003-12-15</td>\n",
       "      <td>900000</td>\n",
       "      <td>1</td>\n",
       "      <td>984</td>\n",
       "      <td>GB1</td>\n",
       "    </tr>\n",
       "    <tr>\n",
       "      <th>2</th>\n",
       "      <td>10</td>\n",
       "      <td>2015</td>\n",
       "      <td>2004-10-04 00:00:00</td>\n",
       "      <td>2004-10-04</td>\n",
       "      <td>2004-10-04</td>\n",
       "      <td>7000000</td>\n",
       "      <td>1</td>\n",
       "      <td>398</td>\n",
       "      <td>IT1</td>\n",
       "    </tr>\n",
       "    <tr>\n",
       "      <th>3</th>\n",
       "      <td>26</td>\n",
       "      <td>2017</td>\n",
       "      <td>2004-10-04 00:00:00</td>\n",
       "      <td>2004-10-04</td>\n",
       "      <td>2004-10-04</td>\n",
       "      <td>1500000</td>\n",
       "      <td>1</td>\n",
       "      <td>16</td>\n",
       "      <td>L1</td>\n",
       "    </tr>\n",
       "    <tr>\n",
       "      <th>4</th>\n",
       "      <td>65</td>\n",
       "      <td>2015</td>\n",
       "      <td>2004-10-04 00:00:00</td>\n",
       "      <td>2004-10-04</td>\n",
       "      <td>2004-10-04</td>\n",
       "      <td>8000000</td>\n",
       "      <td>1</td>\n",
       "      <td>1091</td>\n",
       "      <td>GR1</td>\n",
       "    </tr>\n",
       "    <tr>\n",
       "      <th>...</th>\n",
       "      <td>...</td>\n",
       "      <td>...</td>\n",
       "      <td>...</td>\n",
       "      <td>...</td>\n",
       "      <td>...</td>\n",
       "      <td>...</td>\n",
       "      <td>...</td>\n",
       "      <td>...</td>\n",
       "      <td>...</td>\n",
       "    </tr>\n",
       "    <tr>\n",
       "      <th>424318</th>\n",
       "      <td>158071</td>\n",
       "      <td>2015</td>\n",
       "      <td>2023-05-17 00:00:00</td>\n",
       "      <td>2023-05-17</td>\n",
       "      <td>2023-05-15</td>\n",
       "      <td>250000</td>\n",
       "      <td>1</td>\n",
       "      <td>2448</td>\n",
       "      <td>ES1</td>\n",
       "    </tr>\n",
       "    <tr>\n",
       "      <th>424319</th>\n",
       "      <td>187191</td>\n",
       "      <td>2016</td>\n",
       "      <td>2023-05-17 00:00:00</td>\n",
       "      <td>2023-05-17</td>\n",
       "      <td>2023-05-15</td>\n",
       "      <td>400000</td>\n",
       "      <td>1</td>\n",
       "      <td>192</td>\n",
       "      <td>NL1</td>\n",
       "    </tr>\n",
       "    <tr>\n",
       "      <th>424320</th>\n",
       "      <td>279110</td>\n",
       "      <td>2015</td>\n",
       "      <td>2023-05-17 00:00:00</td>\n",
       "      <td>2023-05-17</td>\n",
       "      <td>2023-05-15</td>\n",
       "      <td>250000</td>\n",
       "      <td>1</td>\n",
       "      <td>1533</td>\n",
       "      <td>ES1</td>\n",
       "    </tr>\n",
       "    <tr>\n",
       "      <th>424321</th>\n",
       "      <td>863829</td>\n",
       "      <td>2022</td>\n",
       "      <td>2023-05-17 00:00:00</td>\n",
       "      <td>2023-05-17</td>\n",
       "      <td>2023-05-15</td>\n",
       "      <td>100000</td>\n",
       "      <td>1</td>\n",
       "      <td>2414</td>\n",
       "      <td>DK1</td>\n",
       "    </tr>\n",
       "    <tr>\n",
       "      <th>424322</th>\n",
       "      <td>405676</td>\n",
       "      <td>2018</td>\n",
       "      <td>2023-12-19 00:00:00</td>\n",
       "      <td>2023-12-19</td>\n",
       "      <td>2023-12-18</td>\n",
       "      <td>50000</td>\n",
       "      <td>1</td>\n",
       "      <td>23826</td>\n",
       "      <td>L1</td>\n",
       "    </tr>\n",
       "  </tbody>\n",
       "</table>\n",
       "<p>424323 rows × 9 columns</p>\n",
       "</div>"
      ],
      "text/plain": [
       "        player_id  last_season             datetime        date    dateweek  \\\n",
       "0            3132         2013  2003-12-09 00:00:00  2003-12-09  2003-12-08   \n",
       "1            6893         2012  2003-12-15 00:00:00  2003-12-15  2003-12-15   \n",
       "2              10         2015  2004-10-04 00:00:00  2004-10-04  2004-10-04   \n",
       "3              26         2017  2004-10-04 00:00:00  2004-10-04  2004-10-04   \n",
       "4              65         2015  2004-10-04 00:00:00  2004-10-04  2004-10-04   \n",
       "...           ...          ...                  ...         ...         ...   \n",
       "424318     158071         2015  2023-05-17 00:00:00  2023-05-17  2023-05-15   \n",
       "424319     187191         2016  2023-05-17 00:00:00  2023-05-17  2023-05-15   \n",
       "424320     279110         2015  2023-05-17 00:00:00  2023-05-17  2023-05-15   \n",
       "424321     863829         2022  2023-05-17 00:00:00  2023-05-17  2023-05-15   \n",
       "424322     405676         2018  2023-12-19 00:00:00  2023-12-19  2023-12-18   \n",
       "\n",
       "        market_value_in_eur  n  current_club_id  \\\n",
       "0                    400000  1              126   \n",
       "1                    900000  1              984   \n",
       "2                   7000000  1              398   \n",
       "3                   1500000  1               16   \n",
       "4                   8000000  1             1091   \n",
       "...                     ... ..              ...   \n",
       "424318               250000  1             2448   \n",
       "424319               400000  1              192   \n",
       "424320               250000  1             1533   \n",
       "424321               100000  1             2414   \n",
       "424322                50000  1            23826   \n",
       "\n",
       "       player_club_domestic_competition_id  \n",
       "0                                      TR1  \n",
       "1                                      GB1  \n",
       "2                                      IT1  \n",
       "3                                       L1  \n",
       "4                                      GR1  \n",
       "...                                    ...  \n",
       "424318                                 ES1  \n",
       "424319                                 NL1  \n",
       "424320                                 ES1  \n",
       "424321                                 DK1  \n",
       "424322                                  L1  \n",
       "\n",
       "[424323 rows x 9 columns]"
      ]
     },
     "execution_count": 120,
     "metadata": {},
     "output_type": "execute_result"
    }
   ],
   "source": [
    "# Use this cell for viewing the DW dataframes:\n",
    "player_val_df"
   ]
  },
  {
   "cell_type": "code",
   "execution_count": 121,
   "metadata": {},
   "outputs": [],
   "source": [
    "# Clean the 3 DW dataframes:\n",
    "\n",
    "# Date and league filtering:\n",
    "filt_appearances_df = appearances_df[(appearances_df['competition_id'] == 'GB1') & (appearances_df['date'] >= '2017-07-01')]    # EPL and 17/18 season+ only\n",
    "\n",
    "# Slice by necessary columns only:\n",
    "app_cols = ['player_id', 'date', 'player_name']\n",
    "filt_appearances_df = filt_appearances_df[app_cols]\n",
    "\n",
    "\n",
    "# Date and league filtering:\n",
    "filt_player_val_df = player_val_df[(player_val_df['player_club_domestic_competition_id'] == 'GB1') & (player_val_df['date'] >= '2017-07-01')]    # EPL and 17/18 season+ only\n",
    "\n",
    "# Slice by necessary columns only:\n",
    "val_cols = ['player_id', 'date', 'current_club_id', 'market_value_in_eur', 'player_club_domestic_competition_id']\n",
    "filt_player_val_df = filt_player_val_df[val_cols]\n",
    "\n",
    "\n",
    "# Date and league filtering:\n",
    "filt_clubs_df = clubs_df[clubs_df['domestic_competition_id'] == 'GB1']    # EPL only\n",
    "\n",
    "# Slice by necessary columns only:\n",
    "clubs_cols = ['club_id', 'name', 'domestic_competition_id']\n",
    "filt_clubs_df = filt_clubs_df[clubs_cols]"
   ]
  },
  {
   "cell_type": "markdown",
   "metadata": {},
   "source": [
    "Merge the three DW dataframes:"
   ]
  },
  {
   "cell_type": "code",
   "execution_count": null,
   "metadata": {},
   "outputs": [],
   "source": [
    "# Merge the appearances and player_val df:\n",
    "merge1 = pd.merge(appearances_df, player_val_df, on='player_id')"
   ]
  },
  {
   "cell_type": "code",
   "execution_count": null,
   "metadata": {},
   "outputs": [],
   "source": [
    "# Make a copy of merge 1 and slice it to include only the necessary columns:\n",
    "merge2 = merge1.copy(deep=True)\n",
    "\n",
    "merge3 = merge2[player_cols]\n",
    "merge3"
   ]
  },
  {
   "cell_type": "markdown",
   "metadata": {},
   "source": [
    "Filter and split up the merged data for each league:"
   ]
  },
  {
   "cell_type": "code",
   "execution_count": null,
   "metadata": {},
   "outputs": [],
   "source": [
    "# Filter the merged dataframe on league ids and date:\n",
    "filter_date = '2017-05-31'\n",
    "\n",
    "filtered_df = merge3[merge3['player_club_domestic_competition_id'].isin(my_leagues) & (merge3['date_y'] >= filter_date)]"
   ]
  },
  {
   "cell_type": "code",
   "execution_count": null,
   "metadata": {},
   "outputs": [],
   "source": [
    "# Generate a list of player names for each league:\n",
    "league_players_lists = [list(filtered_df[filtered_df['player_club_domestic_competition_id'] == league]['player_name'].unique()) for league in my_leagues]\n",
    "\n",
    "# Assign each league to one of the lists:\n",
    "laliga_players = league_players_lists[0]\n",
    "serieA_players = league_players_lists[1]\n",
    "bundesliga_players = league_players_lists[2]\n",
    "epl_players = league_players_lists[3]\n",
    "ligue1_players = league_players_lists[4]"
   ]
  },
  {
   "cell_type": "code",
   "execution_count": null,
   "metadata": {},
   "outputs": [],
   "source": [
    "# Create a dataframe for each league using a list comprehension:\n",
    "league_player_dfs = [filtered_df[filtered_df['player_club_domestic_competition_id'] == league].sort_values('date_y') for league in my_leagues]"
   ]
  },
  {
   "cell_type": "code",
   "execution_count": null,
   "metadata": {},
   "outputs": [],
   "source": [
    "league_player_dfs[0]"
   ]
  },
  {
   "cell_type": "markdown",
   "metadata": {},
   "source": [
    "Bring in the EPL main merged data file for comparison with the DW file:"
   ]
  },
  {
   "cell_type": "code",
   "execution_count": null,
   "metadata": {},
   "outputs": [],
   "source": [
    "# Import the full EPL data from Merged Data directory:\n",
    "fbref_epl_merge = pd.read_excel(os.path.join(repo_dir, \"Merged Data/ENG-Premier League_full_merge.xlsx\"))"
   ]
  },
  {
   "cell_type": "code",
   "execution_count": null,
   "metadata": {},
   "outputs": [],
   "source": [
    "# Generate a list of unique player names from the EPL merge:\n",
    "fbref_epl_player_names = list(fbref_epl_merge['player'].unique())\n",
    "print(f'Number of players in fbref EPL player list: {len(fbref_epl_player_names)}\\n')\n",
    "\n",
    "# Generate a list of overlapping player names between the fbref list and DW list:\n",
    "common_epl_players = [player for player in fbref_epl_player_names if player in epl_players]\n",
    "print(f'Number of overlapping players in fbref/DW EPL player listS: {len(common_epl_players)}')"
   ]
  },
  {
   "cell_type": "markdown",
   "metadata": {},
   "source": [
    "Shrink down the DW data by creating a season variable with format \"Y1Y2\":"
   ]
  },
  {
   "cell_type": "markdown",
   "metadata": {},
   "source": [
    "Create a merged dataframe for the overlapping EPL players: "
   ]
  },
  {
   "cell_type": "code",
   "execution_count": null,
   "metadata": {},
   "outputs": [],
   "source": [
    "# Filter the two dataframes to only include overlapping player names, past 2022:\n",
    "fbref_epl_merge1 = fbref_epl_merge[fbref_epl_merge['player'].isin(common_epl_players)]\n",
    "fbref_epl_merge1 = fbref_epl_merge1[fbref_epl_merge1['season'] >= 2122].sort_values(by='player', ascending=True)\n",
    "\n",
    "# Shrinking down the data world dataframe:\n",
    "dw_epl_df = league_player_dfs[3]\n",
    "\n",
    "# Common players and date > 2022:\n",
    "dw_epl_df = dw_epl_df[dw_epl_df['player_name'].isin(common_epl_players)].rename(columns={'player_name' : 'player', 'date_y' : 'date'})\n",
    "dw_epl_df = dw_epl_df[dw_epl_df['date'] >= '2022-05-31']\n",
    "\n",
    "# Create a year column:\n",
    "dw_epl_df['date'] = pd.to_datetime(dw_epl_df['date'])\n",
    "dw_epl_df['year'] = dw_epl_df['date'].dt.year\n",
    "dw_epl_df['month'] = dw_epl_df['date'].dt.month\n",
    "\n",
    "# Create a season column:\n",
    "dw_epl_df['season'] = dw_epl_df['date'].apply(lambda x: calculate_season(x))\n",
    "\n",
    "# Group by season-player:\n",
    "dw_epl_df = (dw_epl_df\n",
    "             .groupby(['player', 'season']).agg({'player_current_club_id':'first', 'market_value_in_eur':'mean', 'player_club_domestic_competition_id':'first'})\n",
    "             .reset_index()\n",
    "             .sort_values(by='player', ascending=True)\n",
    "             )\n",
    "\n",
    "dw_epl_df"
   ]
  },
  {
   "cell_type": "code",
   "execution_count": null,
   "metadata": {},
   "outputs": [],
   "source": [
    "# Merge the two sliced dataframes:\n",
    "dw_fbref_epl_merge = pd.merge(fbref_epl_merge1, dw_epl_df, on=['player', 'season'])\n",
    "dw_fbref_epl_merge"
   ]
  }
 ],
 "metadata": {
  "kernelspec": {
   "display_name": "Python 3",
   "language": "python",
   "name": "python3"
  },
  "language_info": {
   "codemirror_mode": {
    "name": "ipython",
    "version": 3
   },
   "file_extension": ".py",
   "mimetype": "text/x-python",
   "name": "python",
   "nbconvert_exporter": "python",
   "pygments_lexer": "ipython3",
   "version": "3.10.7"
  }
 },
 "nbformat": 4,
 "nbformat_minor": 2
}
