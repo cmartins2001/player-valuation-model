{
 "cells": [
  {
   "cell_type": "markdown",
   "metadata": {},
   "source": [
    "Importing transfermarkt data from Data World - David Cereijo"
   ]
  },
  {
   "cell_type": "code",
   "execution_count": 134,
   "metadata": {},
   "outputs": [],
   "source": [
    "import pandas as pd\n",
    "import os\n",
    "\n",
    "repo_dir = os.getcwd()  # Directory of the script\n",
    "transferMKT_dir = os.path.join(repo_dir, 'transferMKT-data')"
   ]
  },
  {
   "cell_type": "markdown",
   "metadata": {},
   "source": [
    "Global Functions and Variables:"
   ]
  },
  {
   "cell_type": "code",
   "execution_count": 135,
   "metadata": {},
   "outputs": [],
   "source": [
    "# Global Variables:\n",
    "my_leagues = ['ES1', 'IT1', 'GR1', 'GB1', 'FR1']\n",
    "player_cols = ['date_y', 'player_id', 'player_name', 'player_current_club_id', 'market_value_in_eur', 'player_club_domestic_competition_id']"
   ]
  },
  {
   "cell_type": "code",
   "execution_count": 136,
   "metadata": {},
   "outputs": [],
   "source": [
    "# Function that creates a CSV from a pandas df:\n",
    "def make_csv(df, dir, file_name):\n",
    "    file_path = os.path.join(dir, f'{file_name}.csv')\n",
    "    return df.to_csv(file_path, index=True)\n",
    "\n",
    "\n",
    "# Function that converts a datetime column to soccer season format (ex: 1819):\n",
    "def calculate_season(date):\n",
    "    year = date.year\n",
    "    month = date.month\n",
    "    if month in range(7,12):\n",
    "        return ((year - 2000) * 100) + (year - 1999)\n",
    "    else:\n",
    "        return ((year - 2001) * 100) + (year - 2000)"
   ]
  },
  {
   "cell_type": "markdown",
   "metadata": {},
   "source": [
    "Import and clean data using links from data world (DW):"
   ]
  },
  {
   "cell_type": "code",
   "execution_count": 137,
   "metadata": {},
   "outputs": [],
   "source": [
    "# Create a pandas df for the appearances file:\n",
    "appearances_df = pd.read_csv('https://query.data.world/s/2t4a5mgcrt7xb32ifpci2wijahs7fq?dws=00000')\n",
    "\n",
    "# Create a pandas dataframe for the appearances file:\n",
    "player_val_df = pd.read_csv('https://query.data.world/s/bxh6i5g3kll34aqabzszjbecgdzabm?dws=00000')\n",
    "\n",
    "# Create a pandas for the clubs file:\n",
    "clubs_df = pd.read_csv('https://query.data.world/s/4iac2yo5mskcbmy6xnsvahtxe5eakd?dws=00000')"
   ]
  },
  {
   "cell_type": "code",
   "execution_count": null,
   "metadata": {},
   "outputs": [],
   "source": [
    "# Use this cell for viewing the DW dataframes:\n",
    "player_val_df"
   ]
  },
  {
   "cell_type": "code",
   "execution_count": 160,
   "metadata": {},
   "outputs": [],
   "source": [
    "# Clean the 3 DW dataframes:\n",
    "\n",
    "# Date and league filtering:\n",
    "filt_appearances_df = appearances_df[(appearances_df['competition_id'] == 'GB1') & (appearances_df['date'] >= '2017-07-01')]    # EPL and 17/18 season+ only\n",
    "\n",
    "# Slice by necessary columns only:\n",
    "app_cols = ['player_id', 'date', 'player_name']\n",
    "filt_appearances_df = filt_appearances_df[app_cols]\n",
    "\n",
    "\n",
    "# Date and league filtering:\n",
    "filt_player_val_df = player_val_df[(player_val_df['player_club_domestic_competition_id'] == 'GB1') & (player_val_df['date'] >= '2017-07-01')]    # EPL and 17/18 season+ only\n",
    "\n",
    "# Slice by necessary columns only:\n",
    "val_cols = ['player_id', 'date', 'current_club_id', 'market_value_in_eur', 'player_club_domestic_competition_id']\n",
    "filt_player_val_df = filt_player_val_df[val_cols]\n",
    "\n",
    "\n",
    "# Date and league filtering:\n",
    "filt_clubs_df = clubs_df[clubs_df['domestic_competition_id'] == 'GB1']    # EPL only\n",
    "\n",
    "# Slice by necessary columns only:\n",
    "clubs_cols = ['club_id', 'name', 'domestic_competition_id']\n",
    "filt_clubs_df = filt_clubs_df[clubs_cols]"
   ]
  },
  {
   "cell_type": "code",
   "execution_count": 161,
   "metadata": {},
   "outputs": [],
   "source": [
    "# Standardize common DW column names and sort on date column before merging:\n",
    "filt_appearances_df = filt_appearances_df.rename(columns={'competition_id' : 'league_id'}).sort_values('date', ascending=True)\n",
    "\n",
    "filt_player_val_df = filt_player_val_df.rename(columns={'current_club_id' : 'team_id',\n",
    "                                                        'player_club_domestic_competition_id' : 'league_id'}).sort_values('date', ascending=True)\n",
    "\n",
    "filt_clubs_df = filt_clubs_df.rename(columns={'club_id' : 'team_id',\n",
    "                                              'name' : 'team',\n",
    "                                              'domestic_competition_id' : 'league_id'})"
   ]
  },
  {
   "cell_type": "code",
   "execution_count": 162,
   "metadata": {},
   "outputs": [
    {
     "data": {
      "text/html": [
       "<div>\n",
       "<style scoped>\n",
       "    .dataframe tbody tr th:only-of-type {\n",
       "        vertical-align: middle;\n",
       "    }\n",
       "\n",
       "    .dataframe tbody tr th {\n",
       "        vertical-align: top;\n",
       "    }\n",
       "\n",
       "    .dataframe thead th {\n",
       "        text-align: right;\n",
       "    }\n",
       "</style>\n",
       "<table border=\"1\" class=\"dataframe\">\n",
       "  <thead>\n",
       "    <tr style=\"text-align: right;\">\n",
       "      <th></th>\n",
       "      <th>player_id</th>\n",
       "      <th>date</th>\n",
       "      <th>team_id</th>\n",
       "      <th>market_value_in_eur</th>\n",
       "      <th>league_id</th>\n",
       "    </tr>\n",
       "  </thead>\n",
       "  <tbody>\n",
       "    <tr>\n",
       "      <th>208430</th>\n",
       "      <td>63824</td>\n",
       "      <td>2017-07-01</td>\n",
       "      <td>405</td>\n",
       "      <td>700000</td>\n",
       "      <td>GB1</td>\n",
       "    </tr>\n",
       "    <tr>\n",
       "      <th>208434</th>\n",
       "      <td>77812</td>\n",
       "      <td>2017-07-01</td>\n",
       "      <td>1123</td>\n",
       "      <td>250000</td>\n",
       "      <td>GB1</td>\n",
       "    </tr>\n",
       "    <tr>\n",
       "      <th>208540</th>\n",
       "      <td>339340</td>\n",
       "      <td>2017-07-01</td>\n",
       "      <td>985</td>\n",
       "      <td>200000</td>\n",
       "      <td>GB1</td>\n",
       "    </tr>\n",
       "    <tr>\n",
       "      <th>208600</th>\n",
       "      <td>369567</td>\n",
       "      <td>2017-07-02</td>\n",
       "      <td>543</td>\n",
       "      <td>75000</td>\n",
       "      <td>GB1</td>\n",
       "    </tr>\n",
       "    <tr>\n",
       "      <th>208602</th>\n",
       "      <td>490307</td>\n",
       "      <td>2017-07-02</td>\n",
       "      <td>1237</td>\n",
       "      <td>175000</td>\n",
       "      <td>GB1</td>\n",
       "    </tr>\n",
       "    <tr>\n",
       "      <th>...</th>\n",
       "      <td>...</td>\n",
       "      <td>...</td>\n",
       "      <td>...</td>\n",
       "      <td>...</td>\n",
       "      <td>...</td>\n",
       "    </tr>\n",
       "    <tr>\n",
       "      <th>424294</th>\n",
       "      <td>120241</td>\n",
       "      <td>2023-05-15</td>\n",
       "      <td>603</td>\n",
       "      <td>50000</td>\n",
       "      <td>GB1</td>\n",
       "    </tr>\n",
       "    <tr>\n",
       "      <th>424296</th>\n",
       "      <td>223790</td>\n",
       "      <td>2023-05-15</td>\n",
       "      <td>1010</td>\n",
       "      <td>25000</td>\n",
       "      <td>GB1</td>\n",
       "    </tr>\n",
       "    <tr>\n",
       "      <th>424298</th>\n",
       "      <td>339789</td>\n",
       "      <td>2023-05-15</td>\n",
       "      <td>379</td>\n",
       "      <td>75000</td>\n",
       "      <td>GB1</td>\n",
       "    </tr>\n",
       "    <tr>\n",
       "      <th>424302</th>\n",
       "      <td>486100</td>\n",
       "      <td>2023-05-15</td>\n",
       "      <td>405</td>\n",
       "      <td>75000</td>\n",
       "      <td>GB1</td>\n",
       "    </tr>\n",
       "    <tr>\n",
       "      <th>424304</th>\n",
       "      <td>741236</td>\n",
       "      <td>2023-05-15</td>\n",
       "      <td>1148</td>\n",
       "      <td>500000</td>\n",
       "      <td>GB1</td>\n",
       "    </tr>\n",
       "  </tbody>\n",
       "</table>\n",
       "<p>14922 rows × 5 columns</p>\n",
       "</div>"
      ],
      "text/plain": [
       "        player_id        date  team_id  market_value_in_eur league_id\n",
       "208430      63824  2017-07-01      405               700000       GB1\n",
       "208434      77812  2017-07-01     1123               250000       GB1\n",
       "208540     339340  2017-07-01      985               200000       GB1\n",
       "208600     369567  2017-07-02      543                75000       GB1\n",
       "208602     490307  2017-07-02     1237               175000       GB1\n",
       "...           ...         ...      ...                  ...       ...\n",
       "424294     120241  2023-05-15      603                50000       GB1\n",
       "424296     223790  2023-05-15     1010                25000       GB1\n",
       "424298     339789  2023-05-15      379                75000       GB1\n",
       "424302     486100  2023-05-15      405                75000       GB1\n",
       "424304     741236  2023-05-15     1148               500000       GB1\n",
       "\n",
       "[14922 rows x 5 columns]"
      ]
     },
     "execution_count": 162,
     "metadata": {},
     "output_type": "execute_result"
    }
   ],
   "source": [
    "filt_player_val_df"
   ]
  },
  {
   "cell_type": "code",
   "execution_count": 163,
   "metadata": {},
   "outputs": [],
   "source": [
    "# Create a season column in the appearances and player_val DFs:\n",
    "dw_dfs = [filt_appearances_df, filt_player_val_df]\n",
    "for df in dw_dfs:\n",
    "\n",
    "    # Convert the current date column to date format:\n",
    "    df['date'] = pd.to_datetime(df['date'])\n",
    "\n",
    "    # Add the season column by calling the calculate_season() function:\n",
    "    df['season'] = df['date'].apply(lambda x: calculate_season(x))\n",
    "\n",
    "    # Drop the date column for testing:\n",
    "    df.drop('date', axis=1, inplace=True)\n",
    "\n",
    "# Aggregate the filtered appearances DF to the player-season level:\n",
    "agg_appearances_df = filt_appearances_df.groupby(['player_name', 'season']).agg({'player_id' : 'first'}).reset_index(inplace=True)\n",
    "\n",
    "# Aggregate the player_val DF to the player-season level:\n",
    "agg_player_val_df = filt_player_val_df.groupby(['player_id', 'season']).agg({'team_id' : 'first',\n",
    "                                                                    'market_value_in_eur' : 'mean',\n",
    "                                                                    'league_id' : 'first'}).reset_index(inplace=True)"
   ]
  },
  {
   "cell_type": "code",
   "execution_count": 164,
   "metadata": {},
   "outputs": [],
   "source": [
    "# Use this cell to view the agg DFs:\n",
    "agg_appearances_df"
   ]
  },
  {
   "cell_type": "markdown",
   "metadata": {},
   "source": [
    "Merge the three DW dataframes:"
   ]
  },
  {
   "cell_type": "code",
   "execution_count": null,
   "metadata": {},
   "outputs": [],
   "source": [
    "# Merge the appearances and player_val df:\n",
    "merge1 = pd.merge(appearances_df, player_val_df, on='player_id')"
   ]
  },
  {
   "cell_type": "code",
   "execution_count": null,
   "metadata": {},
   "outputs": [],
   "source": [
    "# Make a copy of merge 1 and slice it to include only the necessary columns:\n",
    "merge2 = merge1.copy(deep=True)\n",
    "\n",
    "merge3 = merge2[player_cols]\n",
    "merge3"
   ]
  },
  {
   "cell_type": "markdown",
   "metadata": {},
   "source": [
    "Filter and split up the merged data for each league:"
   ]
  },
  {
   "cell_type": "code",
   "execution_count": null,
   "metadata": {},
   "outputs": [],
   "source": [
    "# Filter the merged dataframe on league ids and date:\n",
    "filter_date = '2017-05-31'\n",
    "\n",
    "filtered_df = merge3[merge3['player_club_domestic_competition_id'].isin(my_leagues) & (merge3['date_y'] >= filter_date)]"
   ]
  },
  {
   "cell_type": "code",
   "execution_count": null,
   "metadata": {},
   "outputs": [],
   "source": [
    "# Generate a list of player names for each league:\n",
    "league_players_lists = [list(filtered_df[filtered_df['player_club_domestic_competition_id'] == league]['player_name'].unique()) for league in my_leagues]\n",
    "\n",
    "# Assign each league to one of the lists:\n",
    "laliga_players = league_players_lists[0]\n",
    "serieA_players = league_players_lists[1]\n",
    "bundesliga_players = league_players_lists[2]\n",
    "epl_players = league_players_lists[3]\n",
    "ligue1_players = league_players_lists[4]"
   ]
  },
  {
   "cell_type": "code",
   "execution_count": null,
   "metadata": {},
   "outputs": [],
   "source": [
    "# Create a dataframe for each league using a list comprehension:\n",
    "league_player_dfs = [filtered_df[filtered_df['player_club_domestic_competition_id'] == league].sort_values('date_y') for league in my_leagues]"
   ]
  },
  {
   "cell_type": "code",
   "execution_count": null,
   "metadata": {},
   "outputs": [],
   "source": [
    "league_player_dfs[0]"
   ]
  },
  {
   "cell_type": "markdown",
   "metadata": {},
   "source": [
    "Bring in the EPL main merged data file for comparison with the DW file:"
   ]
  },
  {
   "cell_type": "code",
   "execution_count": null,
   "metadata": {},
   "outputs": [],
   "source": [
    "# Import the full EPL data from Merged Data directory:\n",
    "fbref_epl_merge = pd.read_excel(os.path.join(repo_dir, \"Merged Data/ENG-Premier League_full_merge.xlsx\"))"
   ]
  },
  {
   "cell_type": "code",
   "execution_count": null,
   "metadata": {},
   "outputs": [],
   "source": [
    "# Generate a list of unique player names from the EPL merge:\n",
    "fbref_epl_player_names = list(fbref_epl_merge['player'].unique())\n",
    "print(f'Number of players in fbref EPL player list: {len(fbref_epl_player_names)}\\n')\n",
    "\n",
    "# Generate a list of overlapping player names between the fbref list and DW list:\n",
    "common_epl_players = [player for player in fbref_epl_player_names if player in epl_players]\n",
    "print(f'Number of overlapping players in fbref/DW EPL player listS: {len(common_epl_players)}')"
   ]
  },
  {
   "cell_type": "markdown",
   "metadata": {},
   "source": [
    "Shrink down the DW data by creating a season variable with format \"Y1Y2\":"
   ]
  },
  {
   "cell_type": "markdown",
   "metadata": {},
   "source": [
    "Create a merged dataframe for the overlapping EPL players: "
   ]
  },
  {
   "cell_type": "code",
   "execution_count": null,
   "metadata": {},
   "outputs": [],
   "source": [
    "# Filter the two dataframes to only include overlapping player names, past 2022:\n",
    "fbref_epl_merge1 = fbref_epl_merge[fbref_epl_merge['player'].isin(common_epl_players)]\n",
    "fbref_epl_merge1 = fbref_epl_merge1[fbref_epl_merge1['season'] >= 2122].sort_values(by='player', ascending=True)\n",
    "\n",
    "# Shrinking down the data world dataframe:\n",
    "dw_epl_df = league_player_dfs[3]\n",
    "\n",
    "# Common players and date > 2022:\n",
    "dw_epl_df = dw_epl_df[dw_epl_df['player_name'].isin(common_epl_players)].rename(columns={'player_name' : 'player', 'date_y' : 'date'})\n",
    "dw_epl_df = dw_epl_df[dw_epl_df['date'] >= '2022-05-31']\n",
    "\n",
    "# Create a year column:\n",
    "dw_epl_df['date'] = pd.to_datetime(dw_epl_df['date'])\n",
    "dw_epl_df['year'] = dw_epl_df['date'].dt.year\n",
    "dw_epl_df['month'] = dw_epl_df['date'].dt.month\n",
    "\n",
    "# Create a season column:\n",
    "dw_epl_df['season'] = dw_epl_df['date'].apply(lambda x: calculate_season(x))\n",
    "\n",
    "# Group by season-player:\n",
    "dw_epl_df = (dw_epl_df\n",
    "             .groupby(['player', 'season']).agg({'player_current_club_id':'first', 'market_value_in_eur':'mean', 'player_club_domestic_competition_id':'first'})\n",
    "             .reset_index()\n",
    "             .sort_values(by='player', ascending=True)\n",
    "             )\n",
    "\n",
    "dw_epl_df"
   ]
  },
  {
   "cell_type": "code",
   "execution_count": null,
   "metadata": {},
   "outputs": [],
   "source": [
    "# Merge the two sliced dataframes:\n",
    "dw_fbref_epl_merge = pd.merge(fbref_epl_merge1, dw_epl_df, on=['player', 'season'])\n",
    "dw_fbref_epl_merge"
   ]
  }
 ],
 "metadata": {
  "kernelspec": {
   "display_name": "Python 3",
   "language": "python",
   "name": "python3"
  },
  "language_info": {
   "codemirror_mode": {
    "name": "ipython",
    "version": 3
   },
   "file_extension": ".py",
   "mimetype": "text/x-python",
   "name": "python",
   "nbconvert_exporter": "python",
   "pygments_lexer": "ipython3",
   "version": "3.10.7"
  }
 },
 "nbformat": 4,
 "nbformat_minor": 2
}
