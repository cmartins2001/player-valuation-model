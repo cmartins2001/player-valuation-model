{
 "cells": [
  {
   "cell_type": "markdown",
   "metadata": {},
   "source": [
    "Importing transfermarkt data from Data World - David Cereijo"
   ]
  },
  {
   "cell_type": "code",
   "execution_count": 204,
   "metadata": {},
   "outputs": [],
   "source": [
    "import pandas as pd\n",
    "import os\n",
    "\n",
    "repo_dir = os.getcwd()  # Directory of the script\n",
    "transferMKT_dir = os.path.join(repo_dir, 'transferMKT-data')"
   ]
  },
  {
   "cell_type": "markdown",
   "metadata": {},
   "source": [
    "Global Functions and Variables:"
   ]
  },
  {
   "cell_type": "code",
   "execution_count": 205,
   "metadata": {},
   "outputs": [],
   "source": [
    "# Global Variables:\n",
    "my_leagues = ['ES1', 'IT1', 'GR1', 'GB1', 'FR1']\n",
    "player_cols = ['date_y', 'player_id', 'player_name', 'player_current_club_id', 'market_value_in_eur', 'player_club_domestic_competition_id']"
   ]
  },
  {
   "cell_type": "code",
   "execution_count": 206,
   "metadata": {},
   "outputs": [],
   "source": [
    "# Function that creates a CSV from a pandas df:\n",
    "def make_csv(df, dir, file_name):\n",
    "    file_path = os.path.join(dir, f'{file_name}.csv')\n",
    "    return df.to_csv(file_path, index=True)\n",
    "\n",
    "\n",
    "# Function that converts a datetime column to soccer season format (ex: 1819):\n",
    "def calculate_season(date):\n",
    "    year = date.year\n",
    "    month = date.month\n",
    "    if month in range(7,12):\n",
    "        return ((year - 2000) * 100) + (year - 1999)\n",
    "    else:\n",
    "        return ((year - 2001) * 100) + (year - 2000)"
   ]
  },
  {
   "cell_type": "markdown",
   "metadata": {},
   "source": [
    "Import and clean data using links from data world (DW):"
   ]
  },
  {
   "cell_type": "code",
   "execution_count": 207,
   "metadata": {},
   "outputs": [],
   "source": [
    "# Create a pandas df for the appearances file:\n",
    "appearances_df = pd.read_csv('https://query.data.world/s/2t4a5mgcrt7xb32ifpci2wijahs7fq?dws=00000')\n",
    "\n",
    "# Create a pandas dataframe for the appearances file:\n",
    "player_val_df = pd.read_csv('https://query.data.world/s/bxh6i5g3kll34aqabzszjbecgdzabm?dws=00000')\n",
    "\n",
    "# Create a pandas for the clubs file:\n",
    "clubs_df = pd.read_csv('https://query.data.world/s/4iac2yo5mskcbmy6xnsvahtxe5eakd?dws=00000')"
   ]
  },
  {
   "cell_type": "code",
   "execution_count": null,
   "metadata": {},
   "outputs": [],
   "source": [
    "# Use this cell for viewing the DW dataframes:\n",
    "appearances_df"
   ]
  },
  {
   "cell_type": "code",
   "execution_count": 211,
   "metadata": {},
   "outputs": [],
   "source": [
    "# Clean the 3 DW dataframes:\n",
    "\n",
    "# Date and league filtering:\n",
    "filt_appearances_df = appearances_df[(appearances_df['competition_id'] == 'GB1') & (appearances_df['date'] >= '2017-07-01')]    # EPL and 17/18 season+ only\n",
    "\n",
    "# Slice by necessary columns only:\n",
    "app_cols = ['player_id', 'date', 'player_name']\n",
    "filt_appearances_df = filt_appearances_df[app_cols]\n",
    "\n",
    "\n",
    "# Date and league filtering:\n",
    "filt_player_val_df = player_val_df[(player_val_df['player_club_domestic_competition_id'] == 'GB1') & (player_val_df['date'] >= '2017-07-01')]    # EPL and 17/18 season+ only\n",
    "\n",
    "# Slice by necessary columns only:\n",
    "val_cols = ['player_id', 'date', 'current_club_id', 'market_value_in_eur', 'player_club_domestic_competition_id']\n",
    "filt_player_val_df = filt_player_val_df[val_cols]\n",
    "\n",
    "\n",
    "# Date and league filtering:\n",
    "filt_clubs_df = clubs_df[clubs_df['domestic_competition_id'] == 'GB1']    # EPL only\n",
    "\n",
    "# Slice by necessary columns only:\n",
    "clubs_cols = ['club_id', 'name', 'domestic_competition_id']\n",
    "filt_clubs_df = filt_clubs_df[clubs_cols]"
   ]
  },
  {
   "cell_type": "code",
   "execution_count": 212,
   "metadata": {},
   "outputs": [],
   "source": [
    "# Standardize common DW column names and sort on date column before merging:\n",
    "filt_appearances_df = filt_appearances_df.rename(columns={'competition_id' : 'league_id'}).sort_values('date', ascending=True)\n",
    "\n",
    "filt_player_val_df = filt_player_val_df.rename(columns={'current_club_id' : 'team_id',\n",
    "                                                        'player_club_domestic_competition_id' : 'league_id'}).sort_values('date', ascending=True)\n",
    "\n",
    "filt_clubs_df = filt_clubs_df.rename(columns={'club_id' : 'team_id',\n",
    "                                              'name' : 'team',\n",
    "                                              'domestic_competition_id' : 'league_id'})"
   ]
  },
  {
   "cell_type": "code",
   "execution_count": null,
   "metadata": {},
   "outputs": [],
   "source": [
    "filt_player_val_df"
   ]
  },
  {
   "cell_type": "code",
   "execution_count": 213,
   "metadata": {},
   "outputs": [],
   "source": [
    "# Create a season column in the appearances and player_val DFs:\n",
    "dw_dfs = [filt_appearances_df, filt_player_val_df]\n",
    "for df in dw_dfs:\n",
    "\n",
    "    # Convert the current date column to date format:\n",
    "    df['date'] = pd.to_datetime(df['date'])\n",
    "\n",
    "    # Add the season column by calling the calculate_season() function:\n",
    "    df['season'] = df['date'].apply(lambda x: calculate_season(x))\n",
    "\n",
    "    # Drop the date column for testing:\n",
    "    df.drop('date', axis=1, inplace=True)\n",
    "\n",
    "# Aggregate the filtered appearances DF to the player-season level and reset index:\n",
    "agg_appearances_df = (filt_appearances_df\n",
    "                      .groupby(['player_name', 'season']).agg({'player_id' : 'first'})\n",
    "                      .reset_index()\n",
    "                      )\n",
    "agg_appearances_df['player_name'].fillna(agg_appearances_df['player_name'], inplace=True)\n",
    "\n",
    "# Aggregate the player_val DF to the player-season level:\n",
    "agg_player_val_df = (filt_player_val_df\n",
    "                     .groupby(['player_id', 'season']).agg({'team_id' : 'first',\n",
    "                                                                    'market_value_in_eur' : 'mean',\n",
    "                                                                    'league_id' : 'first'})\n",
    "                     .reset_index()\n",
    "                     )\n",
    "agg_player_val_df['player_id'].fillna(agg_player_val_df['player_id'], inplace=True)"
   ]
  },
  {
   "cell_type": "code",
   "execution_count": 217,
   "metadata": {},
   "outputs": [
    {
     "data": {
      "text/html": [
       "<div>\n",
       "<style scoped>\n",
       "    .dataframe tbody tr th:only-of-type {\n",
       "        vertical-align: middle;\n",
       "    }\n",
       "\n",
       "    .dataframe tbody tr th {\n",
       "        vertical-align: top;\n",
       "    }\n",
       "\n",
       "    .dataframe thead th {\n",
       "        text-align: right;\n",
       "    }\n",
       "</style>\n",
       "<table border=\"1\" class=\"dataframe\">\n",
       "  <thead>\n",
       "    <tr style=\"text-align: right;\">\n",
       "      <th></th>\n",
       "      <th>player_name</th>\n",
       "      <th>season</th>\n",
       "      <th>player_id</th>\n",
       "    </tr>\n",
       "  </thead>\n",
       "  <tbody>\n",
       "    <tr>\n",
       "      <th>0</th>\n",
       "      <td>Aaron Connolly</td>\n",
       "      <td>1819</td>\n",
       "      <td>434207</td>\n",
       "    </tr>\n",
       "    <tr>\n",
       "      <th>1</th>\n",
       "      <td>Aaron Connolly</td>\n",
       "      <td>1920</td>\n",
       "      <td>434207</td>\n",
       "    </tr>\n",
       "    <tr>\n",
       "      <th>2</th>\n",
       "      <td>Aaron Connolly</td>\n",
       "      <td>2021</td>\n",
       "      <td>434207</td>\n",
       "    </tr>\n",
       "    <tr>\n",
       "      <th>3</th>\n",
       "      <td>Aaron Connolly</td>\n",
       "      <td>2122</td>\n",
       "      <td>434207</td>\n",
       "    </tr>\n",
       "    <tr>\n",
       "      <th>4</th>\n",
       "      <td>Aaron Cresswell</td>\n",
       "      <td>1617</td>\n",
       "      <td>92571</td>\n",
       "    </tr>\n",
       "    <tr>\n",
       "      <th>...</th>\n",
       "      <td>...</td>\n",
       "      <td>...</td>\n",
       "      <td>...</td>\n",
       "    </tr>\n",
       "    <tr>\n",
       "      <th>4001</th>\n",
       "      <td>Étienne Capoue</td>\n",
       "      <td>1718</td>\n",
       "      <td>63494</td>\n",
       "    </tr>\n",
       "    <tr>\n",
       "      <th>4002</th>\n",
       "      <td>Étienne Capoue</td>\n",
       "      <td>1819</td>\n",
       "      <td>63494</td>\n",
       "    </tr>\n",
       "    <tr>\n",
       "      <th>4003</th>\n",
       "      <td>Étienne Capoue</td>\n",
       "      <td>1920</td>\n",
       "      <td>63494</td>\n",
       "    </tr>\n",
       "    <tr>\n",
       "      <th>4004</th>\n",
       "      <td>Étienne Capoue</td>\n",
       "      <td>2021</td>\n",
       "      <td>63494</td>\n",
       "    </tr>\n",
       "    <tr>\n",
       "      <th>4005</th>\n",
       "      <td>Örjan Nyland</td>\n",
       "      <td>1920</td>\n",
       "      <td>73517</td>\n",
       "    </tr>\n",
       "  </tbody>\n",
       "</table>\n",
       "<p>4006 rows × 3 columns</p>\n",
       "</div>"
      ],
      "text/plain": [
       "          player_name  season  player_id\n",
       "0      Aaron Connolly    1819     434207\n",
       "1      Aaron Connolly    1920     434207\n",
       "2      Aaron Connolly    2021     434207\n",
       "3      Aaron Connolly    2122     434207\n",
       "4     Aaron Cresswell    1617      92571\n",
       "...               ...     ...        ...\n",
       "4001   Étienne Capoue    1718      63494\n",
       "4002   Étienne Capoue    1819      63494\n",
       "4003   Étienne Capoue    1920      63494\n",
       "4004   Étienne Capoue    2021      63494\n",
       "4005     Örjan Nyland    1920      73517\n",
       "\n",
       "[4006 rows x 3 columns]"
      ]
     },
     "execution_count": 217,
     "metadata": {},
     "output_type": "execute_result"
    }
   ],
   "source": [
    "# Use this cell to view the agg DFs:\n",
    "agg_appearances_df"
   ]
  },
  {
   "cell_type": "markdown",
   "metadata": {},
   "source": [
    "Attempt an EPL merge of the three DW files:"
   ]
  },
  {
   "cell_type": "code",
   "execution_count": 219,
   "metadata": {},
   "outputs": [],
   "source": [
    "# Try to merge the two DW dataframes on player_id and season:\n",
    "first_merge = pd.merge(agg_appearances_df, agg_player_val_df, on=['player_id', 'season'])\n",
    "make_csv(first_merge, repo_dir, \"test_merge\")"
   ]
  },
  {
   "cell_type": "code",
   "execution_count": 220,
   "metadata": {},
   "outputs": [
    {
     "data": {
      "text/html": [
       "<div>\n",
       "<style scoped>\n",
       "    .dataframe tbody tr th:only-of-type {\n",
       "        vertical-align: middle;\n",
       "    }\n",
       "\n",
       "    .dataframe tbody tr th {\n",
       "        vertical-align: top;\n",
       "    }\n",
       "\n",
       "    .dataframe thead th {\n",
       "        text-align: right;\n",
       "    }\n",
       "</style>\n",
       "<table border=\"1\" class=\"dataframe\">\n",
       "  <thead>\n",
       "    <tr style=\"text-align: right;\">\n",
       "      <th></th>\n",
       "      <th>player_name</th>\n",
       "      <th>season</th>\n",
       "      <th>player_id</th>\n",
       "      <th>team_id</th>\n",
       "      <th>market_value_in_eur</th>\n",
       "      <th>league_id</th>\n",
       "    </tr>\n",
       "  </thead>\n",
       "  <tbody>\n",
       "    <tr>\n",
       "      <th>0</th>\n",
       "      <td>Aaron Connolly</td>\n",
       "      <td>1819</td>\n",
       "      <td>434207</td>\n",
       "      <td>1237</td>\n",
       "      <td>4.500000e+06</td>\n",
       "      <td>GB1</td>\n",
       "    </tr>\n",
       "    <tr>\n",
       "      <th>1</th>\n",
       "      <td>Aaron Connolly</td>\n",
       "      <td>1920</td>\n",
       "      <td>434207</td>\n",
       "      <td>1237</td>\n",
       "      <td>3.250000e+06</td>\n",
       "      <td>GB1</td>\n",
       "    </tr>\n",
       "    <tr>\n",
       "      <th>2</th>\n",
       "      <td>Aaron Connolly</td>\n",
       "      <td>2021</td>\n",
       "      <td>434207</td>\n",
       "      <td>1237</td>\n",
       "      <td>7.000000e+06</td>\n",
       "      <td>GB1</td>\n",
       "    </tr>\n",
       "    <tr>\n",
       "      <th>3</th>\n",
       "      <td>Aaron Connolly</td>\n",
       "      <td>2122</td>\n",
       "      <td>434207</td>\n",
       "      <td>1237</td>\n",
       "      <td>5.500000e+06</td>\n",
       "      <td>GB1</td>\n",
       "    </tr>\n",
       "    <tr>\n",
       "      <th>4</th>\n",
       "      <td>Aaron Cresswell</td>\n",
       "      <td>1718</td>\n",
       "      <td>92571</td>\n",
       "      <td>379</td>\n",
       "      <td>1.133333e+07</td>\n",
       "      <td>GB1</td>\n",
       "    </tr>\n",
       "    <tr>\n",
       "      <th>...</th>\n",
       "      <td>...</td>\n",
       "      <td>...</td>\n",
       "      <td>...</td>\n",
       "      <td>...</td>\n",
       "      <td>...</td>\n",
       "      <td>...</td>\n",
       "    </tr>\n",
       "    <tr>\n",
       "      <th>2736</th>\n",
       "      <td>Zanka</td>\n",
       "      <td>1819</td>\n",
       "      <td>52059</td>\n",
       "      <td>1148</td>\n",
       "      <td>5.000000e+06</td>\n",
       "      <td>GB1</td>\n",
       "    </tr>\n",
       "    <tr>\n",
       "      <th>2737</th>\n",
       "      <td>Zanka</td>\n",
       "      <td>2122</td>\n",
       "      <td>52059</td>\n",
       "      <td>1148</td>\n",
       "      <td>1.200000e+06</td>\n",
       "      <td>GB1</td>\n",
       "    </tr>\n",
       "    <tr>\n",
       "      <th>2738</th>\n",
       "      <td>Zanka</td>\n",
       "      <td>2223</td>\n",
       "      <td>52059</td>\n",
       "      <td>1148</td>\n",
       "      <td>1.500000e+06</td>\n",
       "      <td>GB1</td>\n",
       "    </tr>\n",
       "    <tr>\n",
       "      <th>2739</th>\n",
       "      <td>Álex Moreno</td>\n",
       "      <td>2223</td>\n",
       "      <td>193098</td>\n",
       "      <td>405</td>\n",
       "      <td>2.000000e+07</td>\n",
       "      <td>GB1</td>\n",
       "    </tr>\n",
       "    <tr>\n",
       "      <th>2740</th>\n",
       "      <td>Ángel Rangel</td>\n",
       "      <td>1718</td>\n",
       "      <td>66550</td>\n",
       "      <td>2288</td>\n",
       "      <td>1.000000e+06</td>\n",
       "      <td>GB1</td>\n",
       "    </tr>\n",
       "  </tbody>\n",
       "</table>\n",
       "<p>2741 rows × 6 columns</p>\n",
       "</div>"
      ],
      "text/plain": [
       "          player_name  season  player_id  team_id  market_value_in_eur  \\\n",
       "0      Aaron Connolly    1819     434207     1237         4.500000e+06   \n",
       "1      Aaron Connolly    1920     434207     1237         3.250000e+06   \n",
       "2      Aaron Connolly    2021     434207     1237         7.000000e+06   \n",
       "3      Aaron Connolly    2122     434207     1237         5.500000e+06   \n",
       "4     Aaron Cresswell    1718      92571      379         1.133333e+07   \n",
       "...               ...     ...        ...      ...                  ...   \n",
       "2736            Zanka    1819      52059     1148         5.000000e+06   \n",
       "2737            Zanka    2122      52059     1148         1.200000e+06   \n",
       "2738            Zanka    2223      52059     1148         1.500000e+06   \n",
       "2739      Álex Moreno    2223     193098      405         2.000000e+07   \n",
       "2740     Ángel Rangel    1718      66550     2288         1.000000e+06   \n",
       "\n",
       "     league_id  \n",
       "0          GB1  \n",
       "1          GB1  \n",
       "2          GB1  \n",
       "3          GB1  \n",
       "4          GB1  \n",
       "...        ...  \n",
       "2736       GB1  \n",
       "2737       GB1  \n",
       "2738       GB1  \n",
       "2739       GB1  \n",
       "2740       GB1  \n",
       "\n",
       "[2741 rows x 6 columns]"
      ]
     },
     "execution_count": 220,
     "metadata": {},
     "output_type": "execute_result"
    }
   ],
   "source": [
    "first_merge"
   ]
  },
  {
   "cell_type": "code",
   "execution_count": 222,
   "metadata": {},
   "outputs": [],
   "source": [
    "# Merge the clubs DF to the first merge:\n",
    "second_merge = pd.merge(first_merge, filt_clubs_df, on=['team_id', 'league_id'])\n",
    "make_csv(second_merge, repo_dir, \"test_merge\")"
   ]
  },
  {
   "cell_type": "markdown",
   "metadata": {},
   "source": [
    "^^^^ LEFT OFF ABOVE THIS MARKDOWN CELL"
   ]
  },
  {
   "cell_type": "markdown",
   "metadata": {},
   "source": [
    "Merge the three DW dataframes:"
   ]
  },
  {
   "cell_type": "code",
   "execution_count": null,
   "metadata": {},
   "outputs": [],
   "source": [
    "# Merge the appearances and player_val df:\n",
    "merge1 = pd.merge(appearances_df, player_val_df, on='player_id')"
   ]
  },
  {
   "cell_type": "code",
   "execution_count": null,
   "metadata": {},
   "outputs": [],
   "source": [
    "# Make a copy of merge 1 and slice it to include only the necessary columns:\n",
    "merge2 = merge1.copy(deep=True)\n",
    "\n",
    "merge3 = merge2[player_cols]\n",
    "merge3"
   ]
  },
  {
   "cell_type": "markdown",
   "metadata": {},
   "source": [
    "Filter and split up the merged data for each league:"
   ]
  },
  {
   "cell_type": "code",
   "execution_count": null,
   "metadata": {},
   "outputs": [],
   "source": [
    "# Filter the merged dataframe on league ids and date:\n",
    "filter_date = '2017-05-31'\n",
    "\n",
    "filtered_df = merge3[merge3['player_club_domestic_competition_id'].isin(my_leagues) & (merge3['date_y'] >= filter_date)]"
   ]
  },
  {
   "cell_type": "code",
   "execution_count": null,
   "metadata": {},
   "outputs": [],
   "source": [
    "# Generate a list of player names for each league:\n",
    "league_players_lists = [list(filtered_df[filtered_df['player_club_domestic_competition_id'] == league]['player_name'].unique()) for league in my_leagues]\n",
    "\n",
    "# Assign each league to one of the lists:\n",
    "laliga_players = league_players_lists[0]\n",
    "serieA_players = league_players_lists[1]\n",
    "bundesliga_players = league_players_lists[2]\n",
    "epl_players = league_players_lists[3]\n",
    "ligue1_players = league_players_lists[4]"
   ]
  },
  {
   "cell_type": "code",
   "execution_count": null,
   "metadata": {},
   "outputs": [],
   "source": [
    "# Create a dataframe for each league using a list comprehension:\n",
    "league_player_dfs = [filtered_df[filtered_df['player_club_domestic_competition_id'] == league].sort_values('date_y') for league in my_leagues]"
   ]
  },
  {
   "cell_type": "code",
   "execution_count": null,
   "metadata": {},
   "outputs": [],
   "source": [
    "league_player_dfs[0]"
   ]
  },
  {
   "cell_type": "markdown",
   "metadata": {},
   "source": [
    "Bring in the EPL main merged data file for comparison with the DW file:"
   ]
  },
  {
   "cell_type": "code",
   "execution_count": null,
   "metadata": {},
   "outputs": [],
   "source": [
    "# Import the full EPL data from Merged Data directory:\n",
    "fbref_epl_merge = pd.read_excel(os.path.join(repo_dir, \"Merged Data/ENG-Premier League_full_merge.xlsx\"))"
   ]
  },
  {
   "cell_type": "code",
   "execution_count": null,
   "metadata": {},
   "outputs": [],
   "source": [
    "# Generate a list of unique player names from the EPL merge:\n",
    "fbref_epl_player_names = list(fbref_epl_merge['player'].unique())\n",
    "print(f'Number of players in fbref EPL player list: {len(fbref_epl_player_names)}\\n')\n",
    "\n",
    "# Generate a list of overlapping player names between the fbref list and DW list:\n",
    "common_epl_players = [player for player in fbref_epl_player_names if player in epl_players]\n",
    "print(f'Number of overlapping players in fbref/DW EPL player listS: {len(common_epl_players)}')"
   ]
  },
  {
   "cell_type": "markdown",
   "metadata": {},
   "source": [
    "Shrink down the DW data by creating a season variable with format \"Y1Y2\":"
   ]
  },
  {
   "cell_type": "markdown",
   "metadata": {},
   "source": [
    "Create a merged dataframe for the overlapping EPL players: "
   ]
  },
  {
   "cell_type": "code",
   "execution_count": null,
   "metadata": {},
   "outputs": [],
   "source": [
    "# Filter the two dataframes to only include overlapping player names, past 2022:\n",
    "fbref_epl_merge1 = fbref_epl_merge[fbref_epl_merge['player'].isin(common_epl_players)]\n",
    "fbref_epl_merge1 = fbref_epl_merge1[fbref_epl_merge1['season'] >= 2122].sort_values(by='player', ascending=True)\n",
    "\n",
    "# Shrinking down the data world dataframe:\n",
    "dw_epl_df = league_player_dfs[3]\n",
    "\n",
    "# Common players and date > 2022:\n",
    "dw_epl_df = dw_epl_df[dw_epl_df['player_name'].isin(common_epl_players)].rename(columns={'player_name' : 'player', 'date_y' : 'date'})\n",
    "dw_epl_df = dw_epl_df[dw_epl_df['date'] >= '2022-05-31']\n",
    "\n",
    "# Create a year column:\n",
    "dw_epl_df['date'] = pd.to_datetime(dw_epl_df['date'])\n",
    "dw_epl_df['year'] = dw_epl_df['date'].dt.year\n",
    "dw_epl_df['month'] = dw_epl_df['date'].dt.month\n",
    "\n",
    "# Create a season column:\n",
    "dw_epl_df['season'] = dw_epl_df['date'].apply(lambda x: calculate_season(x))\n",
    "\n",
    "# Group by season-player:\n",
    "dw_epl_df = (dw_epl_df\n",
    "             .groupby(['player', 'season']).agg({'player_current_club_id':'first', 'market_value_in_eur':'mean', 'player_club_domestic_competition_id':'first'})\n",
    "             .reset_index()\n",
    "             .sort_values(by='player', ascending=True)\n",
    "             )\n",
    "\n",
    "dw_epl_df"
   ]
  },
  {
   "cell_type": "code",
   "execution_count": null,
   "metadata": {},
   "outputs": [],
   "source": [
    "# Merge the two sliced dataframes:\n",
    "dw_fbref_epl_merge = pd.merge(fbref_epl_merge1, dw_epl_df, on=['player', 'season'])\n",
    "dw_fbref_epl_merge"
   ]
  }
 ],
 "metadata": {
  "kernelspec": {
   "display_name": "Python 3",
   "language": "python",
   "name": "python3"
  },
  "language_info": {
   "codemirror_mode": {
    "name": "ipython",
    "version": 3
   },
   "file_extension": ".py",
   "mimetype": "text/x-python",
   "name": "python",
   "nbconvert_exporter": "python",
   "pygments_lexer": "ipython3",
   "version": "3.10.7"
  }
 },
 "nbformat": 4,
 "nbformat_minor": 2
}
