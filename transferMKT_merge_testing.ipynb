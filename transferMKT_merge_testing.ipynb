{
 "cells": [
  {
   "cell_type": "markdown",
   "metadata": {},
   "source": [
    "Importing transfermarkt data from Data World - David Cereijo"
   ]
  },
  {
   "cell_type": "code",
   "execution_count": 31,
   "metadata": {},
   "outputs": [],
   "source": [
    "import pandas as pd\n",
    "import os\n",
    "\n",
    "repo_dir = os.getcwd()  # Directory of the script\n",
    "transferMKT_dir = os.path.join(repo_dir, 'transferMKT-data')"
   ]
  },
  {
   "cell_type": "code",
   "execution_count": 37,
   "metadata": {},
   "outputs": [],
   "source": [
    "# Global Variables:\n",
    "my_leagues = ['ES1', 'IT1', 'GR1', 'GB1', 'FR1']\n",
    "player_cols = ['date_y', 'player_id', 'player_name', 'player_current_club_id', 'market_value_in_eur', 'player_club_domestic_competition_id']"
   ]
  },
  {
   "cell_type": "code",
   "execution_count": 32,
   "metadata": {},
   "outputs": [],
   "source": [
    "# Function that creates a CSV from a pandas df:\n",
    "def make_csv(df, dir, file_name):\n",
    "    file_path = os.path.join(dir, f'{file_name}.csv')\n",
    "    return df.to_csv(file_path, index=True)"
   ]
  },
  {
   "cell_type": "code",
   "execution_count": 33,
   "metadata": {},
   "outputs": [],
   "source": [
    "# Create a pandas df for the appearances file:\n",
    "appearances_df = pd.read_csv('https://query.data.world/s/2t4a5mgcrt7xb32ifpci2wijahs7fq?dws=00000')\n",
    "\n",
    "# Create a pandas dataframe:\n",
    "player_val_df = pd.read_csv('https://query.data.world/s/bxh6i5g3kll34aqabzszjbecgdzabm?dws=00000')"
   ]
  },
  {
   "cell_type": "code",
   "execution_count": 34,
   "metadata": {},
   "outputs": [],
   "source": [
    "# Merge the appearances and player_val df:\n",
    "merge1 = pd.merge(appearances_df, player_val_df, on='player_id')"
   ]
  },
  {
   "cell_type": "code",
   "execution_count": 38,
   "metadata": {},
   "outputs": [
    {
     "data": {
      "text/html": [
       "<div>\n",
       "<style scoped>\n",
       "    .dataframe tbody tr th:only-of-type {\n",
       "        vertical-align: middle;\n",
       "    }\n",
       "\n",
       "    .dataframe tbody tr th {\n",
       "        vertical-align: top;\n",
       "    }\n",
       "\n",
       "    .dataframe thead th {\n",
       "        text-align: right;\n",
       "    }\n",
       "</style>\n",
       "<table border=\"1\" class=\"dataframe\">\n",
       "  <thead>\n",
       "    <tr style=\"text-align: right;\">\n",
       "      <th></th>\n",
       "      <th>date_y</th>\n",
       "      <th>player_id</th>\n",
       "      <th>player_name</th>\n",
       "      <th>player_current_club_id</th>\n",
       "      <th>market_value_in_eur</th>\n",
       "      <th>player_club_domestic_competition_id</th>\n",
       "    </tr>\n",
       "  </thead>\n",
       "  <tbody>\n",
       "    <tr>\n",
       "      <th>0</th>\n",
       "      <td>2012-12-02</td>\n",
       "      <td>172127</td>\n",
       "      <td>Tyronne</td>\n",
       "      <td>3999</td>\n",
       "      <td>200000</td>\n",
       "      <td>GR1</td>\n",
       "    </tr>\n",
       "    <tr>\n",
       "      <th>1</th>\n",
       "      <td>2014-08-10</td>\n",
       "      <td>172127</td>\n",
       "      <td>Tyronne</td>\n",
       "      <td>3999</td>\n",
       "      <td>200000</td>\n",
       "      <td>GR1</td>\n",
       "    </tr>\n",
       "    <tr>\n",
       "      <th>2</th>\n",
       "      <td>2015-07-01</td>\n",
       "      <td>172127</td>\n",
       "      <td>Tyronne</td>\n",
       "      <td>3999</td>\n",
       "      <td>400000</td>\n",
       "      <td>GR1</td>\n",
       "    </tr>\n",
       "    <tr>\n",
       "      <th>3</th>\n",
       "      <td>2016-02-22</td>\n",
       "      <td>172127</td>\n",
       "      <td>Tyronne</td>\n",
       "      <td>3999</td>\n",
       "      <td>300000</td>\n",
       "      <td>GR1</td>\n",
       "    </tr>\n",
       "    <tr>\n",
       "      <th>4</th>\n",
       "      <td>2016-07-15</td>\n",
       "      <td>172127</td>\n",
       "      <td>Tyronne</td>\n",
       "      <td>3999</td>\n",
       "      <td>300000</td>\n",
       "      <td>GR1</td>\n",
       "    </tr>\n",
       "    <tr>\n",
       "      <th>...</th>\n",
       "      <td>...</td>\n",
       "      <td>...</td>\n",
       "      <td>...</td>\n",
       "      <td>...</td>\n",
       "      <td>...</td>\n",
       "      <td>...</td>\n",
       "    </tr>\n",
       "    <tr>\n",
       "      <th>27777120</th>\n",
       "      <td>2023-01-06</td>\n",
       "      <td>668606</td>\n",
       "      <td>Yuito Suzuki</td>\n",
       "      <td>667</td>\n",
       "      <td>700000</td>\n",
       "      <td>FR1</td>\n",
       "    </tr>\n",
       "    <tr>\n",
       "      <th>27777121</th>\n",
       "      <td>2020-07-15</td>\n",
       "      <td>762387</td>\n",
       "      <td>Khusrav Toirov</td>\n",
       "      <td>660</td>\n",
       "      <td>25000</td>\n",
       "      <td>UKR1</td>\n",
       "    </tr>\n",
       "    <tr>\n",
       "      <th>27777122</th>\n",
       "      <td>2020-10-28</td>\n",
       "      <td>762387</td>\n",
       "      <td>Khusrav Toirov</td>\n",
       "      <td>660</td>\n",
       "      <td>25000</td>\n",
       "      <td>UKR1</td>\n",
       "    </tr>\n",
       "    <tr>\n",
       "      <th>27777123</th>\n",
       "      <td>2022-11-25</td>\n",
       "      <td>762387</td>\n",
       "      <td>Khusrav Toirov</td>\n",
       "      <td>660</td>\n",
       "      <td>150000</td>\n",
       "      <td>UKR1</td>\n",
       "    </tr>\n",
       "    <tr>\n",
       "      <th>27777124</th>\n",
       "      <td>2023-03-28</td>\n",
       "      <td>762387</td>\n",
       "      <td>Khusrav Toirov</td>\n",
       "      <td>660</td>\n",
       "      <td>300000</td>\n",
       "      <td>UKR1</td>\n",
       "    </tr>\n",
       "  </tbody>\n",
       "</table>\n",
       "<p>27777125 rows × 6 columns</p>\n",
       "</div>"
      ],
      "text/plain": [
       "              date_y  player_id     player_name  player_current_club_id  \\\n",
       "0         2012-12-02     172127         Tyronne                    3999   \n",
       "1         2014-08-10     172127         Tyronne                    3999   \n",
       "2         2015-07-01     172127         Tyronne                    3999   \n",
       "3         2016-02-22     172127         Tyronne                    3999   \n",
       "4         2016-07-15     172127         Tyronne                    3999   \n",
       "...              ...        ...             ...                     ...   \n",
       "27777120  2023-01-06     668606    Yuito Suzuki                     667   \n",
       "27777121  2020-07-15     762387  Khusrav Toirov                     660   \n",
       "27777122  2020-10-28     762387  Khusrav Toirov                     660   \n",
       "27777123  2022-11-25     762387  Khusrav Toirov                     660   \n",
       "27777124  2023-03-28     762387  Khusrav Toirov                     660   \n",
       "\n",
       "          market_value_in_eur player_club_domestic_competition_id  \n",
       "0                      200000                                 GR1  \n",
       "1                      200000                                 GR1  \n",
       "2                      400000                                 GR1  \n",
       "3                      300000                                 GR1  \n",
       "4                      300000                                 GR1  \n",
       "...                       ...                                 ...  \n",
       "27777120               700000                                 FR1  \n",
       "27777121                25000                                UKR1  \n",
       "27777122                25000                                UKR1  \n",
       "27777123               150000                                UKR1  \n",
       "27777124               300000                                UKR1  \n",
       "\n",
       "[27777125 rows x 6 columns]"
      ]
     },
     "execution_count": 38,
     "metadata": {},
     "output_type": "execute_result"
    }
   ],
   "source": [
    "# Make a copy of merge 1 and slice it to include only the necessary columns:\n",
    "merge2 = merge1.copy(deep=True)\n",
    "\n",
    "merge3 = merge2[player_cols]\n",
    "merge3"
   ]
  },
  {
   "cell_type": "code",
   "execution_count": 40,
   "metadata": {},
   "outputs": [],
   "source": [
    "# Filter the merged dataframe on league ids and date:\n",
    "filter_date = '2017-05-31'\n",
    "\n",
    "filtered_df = merge3[merge3['player_club_domestic_competition_id'].isin(my_leagues) & (merge3['date_y'] >= filter_date)]"
   ]
  },
  {
   "cell_type": "code",
   "execution_count": 44,
   "metadata": {},
   "outputs": [],
   "source": [
    "# Generate a list of player names for each league:\n",
    "league_players_lists = [list(filtered_df[filtered_df['player_club_domestic_competition_id'] == league]['player_name'].unique()) for league in my_leagues]\n",
    "\n",
    "# Assign each league to one of the lists:\n",
    "laliga_players = league_players_lists[0]\n",
    "serieA_players = league_players_lists[1]\n",
    "bundesliga_players = league_players_lists[2]\n",
    "epl_players = league_players_lists[3]\n",
    "ligue1_players = league_players_lists[4]"
   ]
  },
  {
   "cell_type": "code",
   "execution_count": 45,
   "metadata": {},
   "outputs": [],
   "source": [
    "# Create a dataframe for each league using a list comprehension:\n",
    "league_player_dfs = [filtered_df[filtered_df['player_club_domestic_competition_id'] == league] for league in my_leagues]"
   ]
  }
 ],
 "metadata": {
  "kernelspec": {
   "display_name": "Python 3",
   "language": "python",
   "name": "python3"
  },
  "language_info": {
   "codemirror_mode": {
    "name": "ipython",
    "version": 3
   },
   "file_extension": ".py",
   "mimetype": "text/x-python",
   "name": "python",
   "nbconvert_exporter": "python",
   "pygments_lexer": "ipython3",
   "version": "3.10.7"
  }
 },
 "nbformat": 4,
 "nbformat_minor": 2
}
