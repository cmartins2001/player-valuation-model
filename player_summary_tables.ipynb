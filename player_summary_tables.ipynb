{
 "cells": [
  {
   "cell_type": "markdown",
   "metadata": {},
   "source": [
    "LIbraries, global variables, and global functions:"
   ]
  },
  {
   "cell_type": "code",
   "execution_count": 7,
   "metadata": {},
   "outputs": [],
   "source": [
    "# Import libraries:\n",
    "import pandas as pd\n",
    "import os\n",
    "import seaborn as so\n",
    "import matplotlib.pyplot as plt\n",
    "# Graph output styling from matplotlib:\n",
    "plt.style.use('fivethirtyeight')\n",
    "\n",
    "# Global variables:\n",
    "repo_dir = os.getcwd()  # Directory of the script\n",
    "merged_data_dir = os.path.join(repo_dir, \"Merged Data\")   # Path to the Merged Data folder\n",
    "export_dir = os.path.join(repo_dir, \"Summary Tables\")     # Path to the Summary Data folder\n",
    "player_export_dir = os.path.join(export_dir, \"Player Data\") # Path to player data within Summary Data Folder\n",
    "league_ids = ['ENG-Premier League', 'ESP-La Liga', 'FRA-Ligue 1', 'GER-Bundesliga', 'ITA-Serie A'] # For league-level iteration\n",
    "season_ids = ['1718', '1819', '1920', '2021', '2122', '2223'] # For season-level iteration"
   ]
  },
  {
   "cell_type": "code",
   "execution_count": 2,
   "metadata": {},
   "outputs": [],
   "source": [
    "# Create a statistics dictionary for the DEF category:\n",
    "def_stat_dict = {'Tkl': 'mean',        # total tackles\n",
    "                  'TklW': 'mean',      # total tackles won\n",
    "                  'Def 3rd': 'mean',   # total tackles in def. 3rd\n",
    "                  'Mid 3rd': 'mean',   # total tackles in mid. 3rd\n",
    "                  'Blocks.1' : 'mean', # total blocks\n",
    "                  'Sh.3': 'mean',     # total shots blocked\n",
    "                  }\n",
    "\n",
    "# Create a statistics dictionary for the MID category:\n",
    "mid_stat_dict = {'Gls.1': 'mean',       # goals/90\n",
    "                  'Ast.1': 'mean',      # assists/90\n",
    "                  'G-PK.1': 'mean',     # npg per 90\n",
    "                  'G+A-PK': 'mean',   # npg+a per 90\n",
    "                  'npxG+xAG.1' : 'mean',\n",
    "                  'SoT%': 'mean',\n",
    "                  'Cmp%': 'mean',       # overall pass completion\n",
    "                  'Cmp%.1': 'mean',     # mid-range pass completion\n",
    "                  'SCA90': 'mean',\n",
    "                  'GCA90': 'mean',\n",
    "                  'Tkl%': 'mean',       # successful tackle rate\n",
    "                  'PrgC.1': 'mean',     # total progressive carries\n",
    "                  }\n",
    "\n",
    "# Create a statistics dictionary for the FW category:\n",
    "fw_stat_dict = {'Gls.1': 'mean',        # goals/90\n",
    "                  'Ast.1': 'mean',      # assists/90\n",
    "                  'G-PK.1': 'mean',     # npg per 90\n",
    "                  'G+A-PK': 'mean',   # npg+a per 90\n",
    "                  'npxG+xAG.1' : 'mean', # per 90\n",
    "                  'npxG.1': 'mean',     # per 90\n",
    "                  'G/Sh': 'mean',       # overall pass completion\n",
    "                  'G/SoT': 'mean',      # mid-range pass completion\n",
    "                  'np:G-xG': 'mean',    # per 90\n",
    "                  'A-xAG': 'mean',      # total A - xAG \n",
    "                  'Crs': 'mean',        # total crosses\n",
    "                  'GCA90': 'mean',\n",
    "                  }"
   ]
  },
  {
   "cell_type": "code",
   "execution_count": 12,
   "metadata": {},
   "outputs": [],
   "source": [
    "# Function that imports data from Github data folder:\n",
    "def import_merged_data(file_path):\n",
    "    df = pd.read_excel(file_path)\n",
    "    return df\n",
    "\n",
    "\n",
    "# Function that removes unnamed columns:\n",
    "def remove_unnamed_cols(df):\n",
    "\n",
    "    # Create list of unnamed columns:\n",
    "    columns = df.columns\n",
    "    unnamed_cols = [col for col in columns if \"Unnamed\" in col]\n",
    "\n",
    "    # Create a new df and set index:\n",
    "    new_df = (df\n",
    "              .drop(columns=unnamed_cols)\n",
    "              .set_index('league')\n",
    "              )\n",
    "\n",
    "    return new_df\n",
    "\n",
    "\n",
    "# Function that writes the output data to an Excel file:\n",
    "def make_xl(path, df, file_name):\n",
    "    file_path = os.path.join(path, f'{file_name}.xlsx')\n",
    "    return df.to_excel(file_path, index=True)           # Remove index=True if getting permission error\n",
    "\n",
    "\n",
    "# Function that generates a dataframe with team-level statistics filtered by position and season:\n",
    "def key_stats_table(df, stat_dict, pos, season):\n",
    "    return (df[df['position'].str.contains(pos) & (df['season'] == season)]\n",
    "              .groupby('team')\n",
    "              .aggregate(stat_dict)\n",
    "              .round(2) # Round averages to two decimal places\n",
    "              .reset_index()\n",
    "              )\n",
    "\n",
    "\n",
    "# Function that generates a dataframe with season-team-level statistics filtered by position:\n",
    "def key_stats_table_all_seasons(df, stat_dict, pos):\n",
    "    return (df[df['position'].str.contains(pos)]\n",
    "              .groupby(['season', 'team'])\n",
    "              .aggregate(stat_dict)\n",
    "              .round(2) # Round averages to two decimal places\n",
    "              .reset_index()\n",
    "              )\n",
    "\n",
    "\n",
    "# Function that generates a dataframe with season-player-level statistics filtered by position:\n",
    "def key_player_stats_all_seasons(df, stat_dict, pos):\n",
    "    return (df[df['position'].str.contains(pos)]\n",
    "              .groupby(['season', 'player'])\n",
    "              .aggregate(stat_dict)\n",
    "              .round(2) # Round averages to two decimal places\n",
    "              .reset_index()\n",
    "              )"
   ]
  },
  {
   "cell_type": "markdown",
   "metadata": {},
   "source": [
    "Import the data into a list of 5 clean dataframes:"
   ]
  },
  {
   "cell_type": "code",
   "execution_count": 4,
   "metadata": {},
   "outputs": [],
   "source": [
    "# Make a list of imported dataframes:\n",
    "league_df_list = [import_merged_data(os.path.join(merged_data_dir, f\"{league}_full_merge.xlsx\")) for league in league_ids]\n",
    "\n",
    "# Make a list of clean, copied dataframes:\n",
    "cleaned_league_df_list = [remove_unnamed_cols((league_df.copy(deep=True))).dropna(subset=['position']) for league_df in league_df_list]"
   ]
  },
  {
   "cell_type": "code",
   "execution_count": 6,
   "metadata": {},
   "outputs": [],
   "source": [
    "# Variables for iteration:\n",
    "positions = ['DF', 'MF', 'FW']\n",
    "seasons = [1718, 1819, 1920, 2021, 2122, 2223]\n",
    "stat_dicts = [def_stat_dict, mid_stat_dict, fw_stat_dict]"
   ]
  },
  {
   "cell_type": "code",
   "execution_count": 13,
   "metadata": {},
   "outputs": [],
   "source": [
    "# Create a season-player level stats table for each league:\n",
    "for pos, stat_dict in zip(positions, stat_dicts):\n",
    "\n",
    "    # File destination path:\n",
    "    pos_export_dir = os.path.join(player_export_dir, pos)\n",
    "\n",
    "    # Create a list of summary statistics table for each league for the position in the loop:\n",
    "    stat_df_list = [key_player_stats_all_seasons(clean_league_df, stat_dict, pos) for clean_league_df in cleaned_league_df_list]\n",
    "\n",
    "    # Send the summary tables to their respective directories:\n",
    "    for df, league in zip(stat_df_list, league_ids):\n",
    "        make_xl(pos_export_dir, df, file_name=f\"{league}_{pos}_player_keystats\")"
   ]
  }
 ],
 "metadata": {
  "kernelspec": {
   "display_name": "Python 3",
   "language": "python",
   "name": "python3"
  },
  "language_info": {
   "codemirror_mode": {
    "name": "ipython",
    "version": 3
   },
   "file_extension": ".py",
   "mimetype": "text/x-python",
   "name": "python",
   "nbconvert_exporter": "python",
   "pygments_lexer": "ipython3",
   "version": "3.10.7"
  }
 },
 "nbformat": 4,
 "nbformat_minor": 2
}
