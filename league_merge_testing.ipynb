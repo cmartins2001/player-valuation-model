{
 "cells": [
  {
   "cell_type": "code",
   "execution_count": 29,
   "metadata": {},
   "outputs": [],
   "source": [
    "# Import libraries:\n",
    "import pandas as pd\n",
    "import os"
   ]
  },
  {
   "cell_type": "markdown",
   "metadata": {},
   "source": [
    "Global variables and functions:"
   ]
  },
  {
   "cell_type": "code",
   "execution_count": 34,
   "metadata": {},
   "outputs": [],
   "source": [
    "# Global variables:\n",
    "dir = 'C:/Users/cmart/OneDrive - Bentley University/Research/Player Valuation Model'\n",
    "eng_dir = 'C:/Users/cmart/OneDrive - Bentley University/Research/Player Valuation Model/ENG-Premier League'\n",
    "export_dir = 'C:/Users/cmart/OneDrive - Bentley University/Research/Player Valuation Model/Merged Data'\n",
    "season_ids = ['1718', '1819', '1920', '2021', '2122', '2223']\n",
    "league_ids = ['ENG-Premier League', 'ESP-La Liga', 'FRA-Ligue 1', 'GER-Bundesliga', 'ITA-Serie A']\n",
    "index_col_names = ['league', 'season', 'team']\n",
    "SKIP_ROWS = [1] \n",
    "new_cols_dict = {'Unnamed: 0': 'league', 'Unnamed: 1': 'season', 'Unnamed: 2': 'team', 'Unnamed: 3': 'player', \n",
    "            'Unnamed: 4': 'nationality', 'Unnamed: 5': 'position', 'Unnamed: 6': 'age', 'Unnamed: 7': 'YOB'}"
   ]
  },
  {
   "cell_type": "code",
   "execution_count": 35,
   "metadata": {},
   "outputs": [],
   "source": [
    "# Function that writes the output data to an Excel file:\n",
    "def make_xl(path, df, file_name):\n",
    "    file_path = os.path.join(path, f'{file_name}.xlsx')\n",
    "    return df.to_excel(file_path, index=True)           # Remove index=True if getting permission error\n",
    "\n",
    "\n",
    "# Function for importing and cleaning data at the league-season level:\n",
    "def import_and_clean(path):\n",
    "\n",
    "    # Create the dataframe:\n",
    "    df = (pd\n",
    "        .read_excel(path, header=SKIP_ROWS)\n",
    "        .rename(columns=new_cols_dict)\n",
    "        .drop([0])\n",
    "        )\n",
    "    \n",
    "    # Clean index column names and set index to league:\n",
    "    for name in index_col_names:\n",
    "        df[name] = df[name].fillna(method='ffill')\n",
    "    return df\n",
    "\n",
    "\n",
    "# Function for merging two pandas dataframes:\n",
    "def concatenate_dfs(df_list):\n",
    "    merged_df = pd.concat(df_list)\n",
    "    return merged_df"
   ]
  },
  {
   "cell_type": "markdown",
   "metadata": {},
   "source": [
    "Import test data files:"
   ]
  },
  {
   "cell_type": "code",
   "execution_count": 27,
   "metadata": {},
   "outputs": [],
   "source": [
    "# Two Test EPL paths:\n",
    "path1 = \"C:/Users/cmart/OneDrive - Bentley University/Research/Player Valuation Model/ENG-Premier League/ENG-Premier League_1920_full_join.xlsx\"\n",
    "path2 = \"C:/Users/cmart/OneDrive - Bentley University/Research/Player Valuation Model/ENG-Premier League/ENG-Premier League_2021_full_join.xlsx\"\n",
    "\n",
    "# Create two dataframes:\n",
    "df1 = import_and_clean(path1)\n",
    "df2 = import_and_clean(path2)"
   ]
  },
  {
   "cell_type": "markdown",
   "metadata": {},
   "source": [
    "Compare dataframe dimensions and column names:"
   ]
  },
  {
   "cell_type": "code",
   "execution_count": 25,
   "metadata": {},
   "outputs": [
    {
     "name": "stdout",
     "output_type": "stream",
     "text": [
      "df1 row count: 621.\tdf1 column count: 201\n",
      "\n",
      "df2 row count: 653.\tdf2 column count: 201\n",
      "\n"
     ]
    }
   ],
   "source": [
    "# Compare the two dataframe dimensions:\n",
    "df1_rows = df1.shape[0]\n",
    "df1_cols = df1.shape[1]\n",
    "df2_rows = df2.shape[0]\n",
    "df2_cols = df2.shape[1]\n",
    "\n",
    "print(f'df1 row count: {df1_rows}.\\tdf1 column count: {df1_cols}\\n')\n",
    "print(f'df2 row count: {df2_rows}.\\tdf2 column count: {df2_cols}\\n')\n",
    "\n",
    "# Compare dataframe column names:\n",
    "df1_columns = df1.columns\n",
    "df2_columns = df2.columns\n",
    "\n",
    "# for x, y in zip(df1_columns, df2_columns):\n",
    "#     print(f'DF1 Name: {x}\\tDF2 Name: {y}\\n')"
   ]
  },
  {
   "cell_type": "markdown",
   "metadata": {},
   "source": [
    "Attempt to concatenate the two test dataframes:"
   ]
  },
  {
   "cell_type": "code",
   "execution_count": 28,
   "metadata": {},
   "outputs": [
    {
     "data": {
      "text/plain": [
       "201"
      ]
     },
     "execution_count": 28,
     "metadata": {},
     "output_type": "execute_result"
    }
   ],
   "source": [
    "# Set index for each dataframe before concatenating:\n",
    "df1 = df1.set_index('league')\n",
    "df2 = df2.set_index('league')\n",
    "\n",
    "\n",
    "# Create one merged dataframe:\n",
    "merged_df = pd.concat([df1,df2], axis=0)\n",
    "merged_df.shape[1]"
   ]
  },
  {
   "cell_type": "markdown",
   "metadata": {},
   "source": [
    "Send output to Excel for review:"
   ]
  },
  {
   "cell_type": "code",
   "execution_count": 15,
   "metadata": {},
   "outputs": [],
   "source": [
    "make_xl(dir, merged_df, file_name='test_epl_merge')"
   ]
  },
  {
   "cell_type": "markdown",
   "metadata": {},
   "source": [
    "Iterate the concatenatin process over many seasons in the EPL:"
   ]
  },
  {
   "cell_type": "code",
   "execution_count": 32,
   "metadata": {},
   "outputs": [],
   "source": [
    "# Initialize dataframe list:\n",
    "epl_df_list = []\n",
    "\n",
    "# Import data:\n",
    "for season in season_ids:\n",
    "\n",
    "    # Dynamic file path:\n",
    "    file_path = f\"C:/Users/cmart/OneDrive - Bentley University/Research/Player Valuation Model/ENG-Premier League/ENG-Premier League_{season}_full_join.xlsx\"\n",
    "\n",
    "    # Import and clean the data:\n",
    "    df = import_and_clean(file_path)\n",
    "    df = df.set_index('league')\n",
    "\n",
    "    # Add to list of datafrmes:\n",
    "    epl_df_list.append(df)\n",
    "\n",
    "# Concatenate all of the dataframes in the list:\n",
    "epl_merged_df = concatenate_dfs(epl_df_list)"
   ]
  },
  {
   "cell_type": "code",
   "execution_count": 33,
   "metadata": {},
   "outputs": [
    {
     "name": "stdout",
     "output_type": "stream",
     "text": [
      "Merged Row Count: 3880\n",
      "\n",
      "Merged Column Count: 201\n"
     ]
    }
   ],
   "source": [
    "# Check and explore the merged EPL dataframe:\n",
    "print(f'Merged Row Count: {epl_merged_df.shape[0]}\\n') \n",
    "print(f'Merged Column Count: {epl_merged_df.shape[1]}') "
   ]
  },
  {
   "cell_type": "markdown",
   "metadata": {},
   "source": [
    "Iterate over every season in every league:"
   ]
  },
  {
   "cell_type": "code",
   "execution_count": 37,
   "metadata": {},
   "outputs": [
    {
     "name": "stdout",
     "output_type": "stream",
     "text": [
      "\n",
      "Working on the ENG-Premier League dataframe merge...\n",
      "\n",
      "\n",
      "Successfully added the 1718 dataframe for the ENG-Premier League.\n",
      "\n",
      "\n",
      "Successfully added the 1819 dataframe for the ENG-Premier League.\n",
      "\n",
      "\n",
      "Successfully added the 1920 dataframe for the ENG-Premier League.\n",
      "\n",
      "\n",
      "Successfully added the 2021 dataframe for the ENG-Premier League.\n",
      "\n",
      "\n",
      "Successfully added the 2122 dataframe for the ENG-Premier League.\n",
      "\n",
      "\n",
      "Successfully added the 2223 dataframe for the ENG-Premier League.\n",
      "\n",
      "\n",
      "The ENG-Premier League merge is complete, proceeed to dimensions check.\n",
      "\n",
      "\n",
      "ENG-Premier League Merge Row Count: 3880\n",
      "\n",
      "\n",
      "ENG-Premier League Merge Column Count: 201\n",
      "\n",
      "\n",
      "The ENG-Premier League merge was successful. Sending to Excel...\n",
      "\n",
      "\n",
      "Working on the ESP-La Liga dataframe merge...\n",
      "\n",
      "\n",
      "Successfully added the 1718 dataframe for the ESP-La Liga.\n",
      "\n",
      "\n",
      "Successfully added the 1819 dataframe for the ESP-La Liga.\n",
      "\n",
      "\n",
      "Successfully added the 1920 dataframe for the ESP-La Liga.\n",
      "\n",
      "\n",
      "Successfully added the 2021 dataframe for the ESP-La Liga.\n",
      "\n",
      "\n",
      "Successfully added the 2122 dataframe for the ESP-La Liga.\n",
      "\n",
      "\n",
      "Successfully added the 2223 dataframe for the ESP-La Liga.\n",
      "\n",
      "\n",
      "The ESP-La Liga merge is complete, proceeed to dimensions check.\n",
      "\n",
      "\n",
      "ESP-La Liga Merge Row Count: 4128\n",
      "\n",
      "\n",
      "ESP-La Liga Merge Column Count: 201\n",
      "\n",
      "\n",
      "The ESP-La Liga merge was successful. Sending to Excel...\n",
      "\n",
      "\n",
      "Working on the FRA-Ligue 1 dataframe merge...\n",
      "\n",
      "\n",
      "Successfully added the 1718 dataframe for the FRA-Ligue 1.\n",
      "\n",
      "\n",
      "Successfully added the 1819 dataframe for the FRA-Ligue 1.\n",
      "\n",
      "\n",
      "Successfully added the 1920 dataframe for the FRA-Ligue 1.\n",
      "\n",
      "\n",
      "Successfully added the 2021 dataframe for the FRA-Ligue 1.\n",
      "\n",
      "\n",
      "Successfully added the 2122 dataframe for the FRA-Ligue 1.\n",
      "\n",
      "\n",
      "Successfully added the 2223 dataframe for the FRA-Ligue 1.\n",
      "\n",
      "\n",
      "The FRA-Ligue 1 merge is complete, proceeed to dimensions check.\n",
      "\n",
      "\n",
      "FRA-Ligue 1 Merge Row Count: 4055\n",
      "\n",
      "\n",
      "FRA-Ligue 1 Merge Column Count: 201\n",
      "\n",
      "\n",
      "The FRA-Ligue 1 merge was successful. Sending to Excel...\n",
      "\n",
      "\n",
      "Working on the GER-Bundesliga dataframe merge...\n",
      "\n",
      "\n",
      "Successfully added the 1718 dataframe for the GER-Bundesliga.\n",
      "\n",
      "\n",
      "Successfully added the 1819 dataframe for the GER-Bundesliga.\n",
      "\n",
      "\n",
      "Successfully added the 1920 dataframe for the GER-Bundesliga.\n",
      "\n",
      "\n",
      "Successfully added the 2021 dataframe for the GER-Bundesliga.\n",
      "\n",
      "\n",
      "Successfully added the 2122 dataframe for the GER-Bundesliga.\n",
      "\n",
      "\n",
      "Successfully added the 2223 dataframe for the GER-Bundesliga.\n",
      "\n",
      "\n",
      "The GER-Bundesliga merge is complete, proceeed to dimensions check.\n",
      "\n",
      "\n",
      "GER-Bundesliga Merge Row Count: 3455\n",
      "\n",
      "\n",
      "GER-Bundesliga Merge Column Count: 201\n",
      "\n",
      "\n",
      "The GER-Bundesliga merge was successful. Sending to Excel...\n",
      "\n",
      "\n",
      "Working on the ITA-Serie A dataframe merge...\n",
      "\n",
      "\n",
      "Successfully added the 1718 dataframe for the ITA-Serie A.\n",
      "\n",
      "\n",
      "Successfully added the 1819 dataframe for the ITA-Serie A.\n",
      "\n",
      "\n",
      "Successfully added the 1920 dataframe for the ITA-Serie A.\n",
      "\n",
      "\n",
      "Successfully added the 2021 dataframe for the ITA-Serie A.\n",
      "\n",
      "\n",
      "Successfully added the 2122 dataframe for the ITA-Serie A.\n",
      "\n",
      "\n",
      "Successfully added the 2223 dataframe for the ITA-Serie A.\n",
      "\n",
      "\n",
      "The ITA-Serie A merge is complete, proceeed to dimensions check.\n",
      "\n",
      "\n",
      "ITA-Serie A Merge Row Count: 4547\n",
      "\n",
      "\n",
      "ITA-Serie A Merge Column Count: 201\n",
      "\n",
      "\n",
      "The ITA-Serie A merge was successful. Sending to Excel...\n",
      "\n",
      "\n",
      "Process complete. See C:/Users/cmart/OneDrive - Bentley University/Research/Player Valuation Model/Merged Data for results.\n",
      "\n"
     ]
    }
   ],
   "source": [
    "# Import and concatenate data:\n",
    "for league in league_ids:\n",
    "\n",
    "    #Initialize empty list:\n",
    "    league_df_list = []\n",
    "\n",
    "    print(f'\\nWorking on the {league} dataframe merge...\\n')\n",
    "\n",
    "    for season in season_ids:\n",
    "        # Dynamic file path:\n",
    "        file_path = f\"C:/Users/cmart/OneDrive - Bentley University/Research/Player Valuation Model/{league}/{league}_{season}_full_join.xlsx\"\n",
    "\n",
    "        # Import and clean the data:\n",
    "        df = import_and_clean(file_path)\n",
    "        df = df.set_index('league')\n",
    "\n",
    "        # Add to list of datafrmes:\n",
    "        league_df_list.append(df)\n",
    "        print(f'\\nSuccessfully added the {season} dataframe for the {league}.\\n')\n",
    "\n",
    "    # Concatenate the dataframes from the list:\n",
    "    league_merged_df = concatenate_dfs(league_df_list)\n",
    "    print(f'\\nThe {league} merge is complete, proceeed to dimensions check.\\n')\n",
    "\n",
    "    # Check row and column counts:\n",
    "    print(f'\\n{league} Merge Row Count: {league_merged_df.shape[0]}\\n')\n",
    "    print(f'\\n{league} Merge Column Count: {league_merged_df.shape[1]}\\n')\n",
    "\n",
    "    # Send the merged dataframe to excel:\n",
    "    user_bool = int(input(\"Enter 1 if DF dimensions OK, 0 otherwise: \"))\n",
    "    if user_bool == 1:\n",
    "        print(f'\\nThe {league} merge was successful. Sending to Excel...\\n')\n",
    "        make_xl(export_dir, league_merged_df, file_name=f'{league}_full_merge')\n",
    "    else:\n",
    "        print(f'\\nThe {league} merge was unsuccessful. Proceeding to next league...\\n')\n",
    "\n",
    "print(f'\\nProcess complete. See {export_dir} for results.\\n')"
   ]
  }
 ],
 "metadata": {
  "kernelspec": {
   "display_name": "Python 3",
   "language": "python",
   "name": "python3"
  },
  "language_info": {
   "codemirror_mode": {
    "name": "ipython",
    "version": 3
   },
   "file_extension": ".py",
   "mimetype": "text/x-python",
   "name": "python",
   "nbconvert_exporter": "python",
   "pygments_lexer": "ipython3",
   "version": "3.10.7"
  }
 },
 "nbformat": 4,
 "nbformat_minor": 2
}
