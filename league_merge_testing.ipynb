{
 "cells": [
  {
   "cell_type": "code",
   "execution_count": 15,
   "metadata": {},
   "outputs": [],
   "source": [
    "# Import libraries:\n",
    "import pandas as pd\n",
    "import os"
   ]
  },
  {
   "cell_type": "code",
   "execution_count": 18,
   "metadata": {},
   "outputs": [],
   "source": [
    "# Global variables:\n",
    "dir = 'C:/Users/cmart/OneDrive - Bentley University/Research/Player Valuation Model'\n",
    "eng_dir = 'C:/Users/cmart/OneDrive - Bentley University/Research/Player Valuation Model/ENG-Premier League'\n",
    "export_dir = 'C:/Users/cmart/OneDrive - Bentley University/Research/Player Valuation Model/Merged Data'\n",
    "season_ids = ['1516', '1617', '1718', '1819', '1920', '2021', '2122', '2223']\n",
    "league_ids = ['ENG-Premier League', 'ESP-La Liga', 'FRA-Ligue 1', 'GER-Bundesliga', 'ITA-Serie A']\n",
    "test_path = \"C:/Users/cmart/OneDrive - Bentley University/Research/Player Valuation Model/ENG-Premier League/ENG-Premier League_1920_full_join.xlsx\"\n",
    "index_col_names = ['league', 'season', 'team']\n",
    "SKIP_ROWS = [1] \n",
    "new_cols_dict = {'Unnamed: 0': 'league', 'Unnamed: 1': 'season', 'Unnamed: 2': 'team', 'Unnamed: 3': 'player', \n",
    "            'Unnamed: 4': 'nationality', 'Unnamed: 5': 'position', 'Unnamed: 6': 'age', 'Unnamed: 7': 'YOB'}"
   ]
  },
  {
   "cell_type": "code",
   "execution_count": 20,
   "metadata": {},
   "outputs": [],
   "source": [
    "# Global functions:\n",
    "\n",
    "\n",
    "# Function that writes the output data to an Excel file:\n",
    "def make_xl(path, df, file_name):\n",
    "    file_path = os.path.join(path, f'{file_name}.xlsx')\n",
    "    return df.to_excel(file_path, index=True)           # Remove index=True if getting permission error\n",
    "\n",
    "\n",
    "# Function for importing and cleaning data at the league-season level:\n",
    "def import_and_clean(path):\n",
    "\n",
    "    # Create the dataframe:\n",
    "    df = (pd\n",
    "        .read_excel(path, header=SKIP_ROWS)\n",
    "        .rename(columns=new_cols_dict)\n",
    "        .drop([0])\n",
    "        )\n",
    "    \n",
    "    # Clean index column names:\n",
    "    for name in index_col_names:\n",
    "        df[name] = df[name].fillna(method='ffill')\n",
    "    \n",
    "    return df\n",
    "\n",
    "\n",
    "# Function for merging two pandas dataframes:\n",
    "def join_dfs(df1, df2, join_col):\n",
    "    merged_df = pd.merge(df1, df2, on=join_col)\n",
    "    return merged_df"
   ]
  },
  {
   "cell_type": "code",
   "execution_count": 29,
   "metadata": {},
   "outputs": [
    {
     "name": "stdout",
     "output_type": "stream",
     "text": [
      "df1 row count: 621.\tdf1 column count: 202\n",
      "\n",
      "df2 row count: 653.\tdf2 column count: 202\n"
     ]
    }
   ],
   "source": [
    "# Two Test EPL paths:\n",
    "path1 = \"C:/Users/cmart/OneDrive - Bentley University/Research/Player Valuation Model/ENG-Premier League/ENG-Premier League_1920_full_join.xlsx\"\n",
    "path2 = \"C:/Users/cmart/OneDrive - Bentley University/Research/Player Valuation Model/ENG-Premier League/ENG-Premier League_2021_full_join.xlsx\"\n",
    "\n",
    "# Create two dataframes:\n",
    "df1 = import_and_clean(path1)\n",
    "df2 = import_and_clean(path2)\n",
    "\n",
    "# Compare the two dataframes before merging:\n",
    "df1_rows = df1.shape[0]\n",
    "df1_cols = df1.shape[1]\n",
    "df2_rows = df2.shape[0]\n",
    "df2_cols = df2.shape[1]\n",
    "\n",
    "print(f'df1 row count: {df1_rows}.\\tdf1 column count: {df1_cols}\\n')\n",
    "print(f'df2 row count: {df2_rows}.\\tdf2 column count: {df2_cols}')\n",
    "\n",
    "# Create one merged dataframe:\n",
    "# col = 'player'\n",
    "# merged_df = pd.concat([df1,df2], axis=0)\n",
    "# merged_df"
   ]
  },
  {
   "cell_type": "code",
   "execution_count": null,
   "metadata": {},
   "outputs": [],
   "source": [
    "# Print column names for each dataframe:\n",
    "# print(f'{df1.columns}\\n')\n",
    "# print(df2.columns)\n",
    "\n",
    "df1_columns = df1.columns\n",
    "df2_columns = df2.columns\n",
    "\n",
    "for x, y in zip(df1_columns, df2_columns):\n",
    "    print(f'DF1 Name: {x}\\tDF2 Name: {y}\\n')"
   ]
  },
  {
   "cell_type": "code",
   "execution_count": 28,
   "metadata": {},
   "outputs": [],
   "source": [
    "make_xl(dir, df1, file_name='test_epl_merge')"
   ]
  }
 ],
 "metadata": {
  "kernelspec": {
   "display_name": "Python 3",
   "language": "python",
   "name": "python3"
  },
  "language_info": {
   "codemirror_mode": {
    "name": "ipython",
    "version": 3
   },
   "file_extension": ".py",
   "mimetype": "text/x-python",
   "name": "python",
   "nbconvert_exporter": "python",
   "pygments_lexer": "ipython3",
   "version": "3.10.7"
  }
 },
 "nbformat": 4,
 "nbformat_minor": 2
}
