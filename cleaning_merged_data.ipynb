{
 "cells": [
  {
   "cell_type": "markdown",
   "metadata": {},
   "source": [
    "Cleaning merged league data from FBref:"
   ]
  },
  {
   "cell_type": "code",
   "execution_count": 115,
   "metadata": {},
   "outputs": [],
   "source": [
    "# Import libraries:\n",
    "import pandas as pd\n",
    "import os\n",
    "import seaborn as so\n",
    "import matplotlib.pyplot as plt"
   ]
  },
  {
   "cell_type": "markdown",
   "metadata": {},
   "source": [
    "Global variables and functions:"
   ]
  },
  {
   "cell_type": "code",
   "execution_count": 116,
   "metadata": {},
   "outputs": [],
   "source": [
    "# Global variables:\n",
    "repo_dir = os.getcwd()  # Directory of the script\n",
    "merged_data_dir = os.path.join(repo_dir, \"Merged Data\")   # Path to the Merged Data folder\n",
    "league_ids = ['ENG-Premier League', 'ESP-La Liga', 'FRA-Ligue 1', 'GER-Bundesliga', 'ITA-Serie A'] # For league-level iteration\n",
    "epl_file_path = os.path.join(merged_data_dir, \"ENG-Premier League_full_merge.xlsx\") # For testing EPL data only\n",
    "\n",
    "# Graph output styling from matplotlib:\n",
    "plt.style.use('fivethirtyeight')"
   ]
  },
  {
   "cell_type": "code",
   "execution_count": 117,
   "metadata": {},
   "outputs": [],
   "source": [
    "# Function that imports data from Github data folder:\n",
    "def import_merged_data(file_path):\n",
    "    df = pd.read_excel(file_path)\n",
    "    return df\n",
    "\n",
    "\n",
    "# Function that removes unnamed columns:\n",
    "def remove_unnamed_cols(df):\n",
    "\n",
    "    # Create list of unnamed columns:\n",
    "    columns = df.columns\n",
    "    unnamed_cols = [col for col in columns if \"Unnamed\" in col]\n",
    "\n",
    "    # Create a new df and set index:\n",
    "    new_df = (df\n",
    "              .drop(columns=unnamed_cols)\n",
    "              .set_index('league')\n",
    "              )\n",
    "\n",
    "    return new_df\n",
    "\n",
    "\n",
    "# Function that writes the output data to an Excel file:\n",
    "def make_xl(path, df, file_name):\n",
    "    file_path = os.path.join(path, f'{file_name}.xlsx')\n",
    "    return df.to_excel(file_path, index=True)           # Remove index=True if getting permission error\n",
    "\n",
    "\n",
    "# Function that generates a dataframe with team-level statistics filtered by position and season:\n",
    "def key_stats_table(df, stat_dict, pos, season):\n",
    "    return (df[df['position'].str.contains(pos) & (df['season'] == season)]\n",
    "              .groupby('team')\n",
    "              .aggregate(stat_dict)\n",
    "              .reset_index()\n",
    "              )\n",
    "    "
   ]
  },
  {
   "cell_type": "markdown",
   "metadata": {},
   "source": [
    "Import EPL data for preliminary cleaning and exploring:"
   ]
  },
  {
   "cell_type": "code",
   "execution_count": null,
   "metadata": {},
   "outputs": [],
   "source": [
    "# Import the EPL data for experimental cleaning:\n",
    "epl_df = import_merged_data(epl_file_path)"
   ]
  },
  {
   "cell_type": "code",
   "execution_count": null,
   "metadata": {},
   "outputs": [],
   "source": [
    "# Make a local copy of the dataframe for efficiency:\n",
    "epl_df_copy = epl_df.copy(deep=True)"
   ]
  },
  {
   "cell_type": "code",
   "execution_count": null,
   "metadata": {},
   "outputs": [],
   "source": [
    "# Remove all unnamed columns and drop NaN values from the dataframe:\n",
    "clean_epl_df_copy = remove_unnamed_cols(epl_df_copy).dropna(subset=['position'])\n",
    "clean_epl_df_copy"
   ]
  },
  {
   "cell_type": "code",
   "execution_count": null,
   "metadata": {},
   "outputs": [],
   "source": [
    "# Get column names:\n",
    "col_names = clean_epl_df_copy.columns\n",
    "col_nums = [i for i in range(0, 155)]\n",
    "\n",
    "# Create a dictionary and convert to a pandas DF:\n",
    "col_names_dict = {k:v for k,v in zip(col_nums, col_names)}\n",
    "columns_df = pd.DataFrame.from_dict(col_names_dict, orient='index')\n",
    "\n",
    "# Send to an XL doc for reference:\n",
    "make_xl(path=repo_dir, df=columns_df, file_name='Merged Data Columns')"
   ]
  },
  {
   "cell_type": "code",
   "execution_count": null,
   "metadata": {},
   "outputs": [],
   "source": [
    "# Aggregate by position and get row totals:\n",
    "pos_agg_eply_df = (clean_epl_df_copy\n",
    "               .groupby('position')\n",
    "               .aggregate({'season': 'count', 'age': 'mean', 'MP': 'mean'})\n",
    "               .rename(columns={'season': 'row_total'})\n",
    "               .reset_index()\n",
    "               )\n",
    "\n",
    "pos_agg_eply_df"
   ]
  },
  {
   "cell_type": "code",
   "execution_count": null,
   "metadata": {},
   "outputs": [],
   "source": [
    "season_agg_eply_df = (clean_epl_df_copy\n",
    "                      .groupby('season')\n",
    "                      .aggregate({'position': 'count', 'age': 'mean', 'MP': 'mean'})\n",
    "                      .rename(columns={'position': 'row_total'})\n",
    "                      .reset_index()\n",
    "                      )\n",
    "\n",
    "# Create a line chart of player count by season:\n",
    "so.barplot(x='season', y='row_total', data=season_agg_eply_df)"
   ]
  },
  {
   "cell_type": "code",
   "execution_count": null,
   "metadata": {},
   "outputs": [],
   "source": [
    "# Filter on position level:\n",
    "midfield_epl_df = (clean_epl_df_copy[clean_epl_df_copy['position'].str.contains(\"MF\")]\n",
    "                   .groupby('position')\n",
    "                   .aggregate({'season': 'count', 'age': 'mean', 'MP': 'mean'})\n",
    "                   .rename(columns={'season': 'row_total'})\n",
    "                   .reset_index()\n",
    "                   )\n",
    "midfield_epl_df"
   ]
  },
  {
   "cell_type": "code",
   "execution_count": null,
   "metadata": {},
   "outputs": [],
   "source": [
    "# Plot row totals by MIDFIELD sub-positions:\n",
    "plt.figure(figsize=(9,5))\n",
    "so.barplot(x='position', y='row_total', data=midfield_epl_df, color='darkcyan')\n",
    "plt.xlabel('Midfield Sub-Position')\n",
    "plt.ylabel('Number of Players')"
   ]
  },
  {
   "cell_type": "markdown",
   "metadata": {},
   "source": [
    "Aggregate at the team-position level:"
   ]
  },
  {
   "cell_type": "code",
   "execution_count": null,
   "metadata": {},
   "outputs": [],
   "source": [
    "# Aggregate on the team-position level:\n",
    "team_agg_eply_df = (clean_epl_df_copy\n",
    "                      .reset_index()\n",
    "                      .groupby('team')\n",
    "                      .aggregate({'league': 'count', 'age': 'mean', 'Gls': 'mean', 'SoT%': 'mean', 'SCA90' : 'mean'})\n",
    "                      .rename(columns={'league': 'row_total'})\n",
    "                      .reset_index()\n",
    "                      .sort_values(by='Gls', ascending=False)\n",
    "                      )\n",
    "\n",
    "# Horizontal barplot of average goals/player by team:\n",
    "plt.figure(figsize=(12,10))\n",
    "so.barplot(x='Gls', y='team', data=team_agg_eply_df)"
   ]
  },
  {
   "cell_type": "code",
   "execution_count": null,
   "metadata": {},
   "outputs": [],
   "source": [
    "# Create a dictionary of key statistics and their respective aggregation methods:\n",
    "test_stat_dict = {'age': 'mean',\n",
    "                  'Gls.1': 'mean',  # goals/90\n",
    "                  'Cmp%.1': 'mean', # medium pass completion rate\n",
    "                  'SoT%': 'mean',   # shot-on-target %\n",
    "                  'SCA90' : 'mean', # shot-creating actions per 90 \n",
    "                  'Tkl%': 'mean',   # successful tackle %\n",
    "                  'Succ%': 'mean'   # successful take-on %\n",
    "                  }\n",
    "\n",
    "# Create a dataframe of these statistics for a certain league, position, and season:\n",
    "test_df = key_stats_table(clean_epl_df_copy, test_stat_dict, 'MF', 2122)\n",
    "test_df"
   ]
  },
  {
   "cell_type": "markdown",
   "metadata": {},
   "source": [
    "Loop over the Merged Data folder to get all five seasons cleaned and into pandas: "
   ]
  },
  {
   "cell_type": "code",
   "execution_count": null,
   "metadata": {},
   "outputs": [],
   "source": [
    "# Make a list of imported dataframes:\n",
    "league_df_list = [import_merged_data(os.path.join(merged_data_dir, f\"{league}_full_merge.xlsx\")) for league in league_ids]\n",
    "\n",
    "# Make a list of clean, copied dataframes:\n",
    "cleaned_league_df_list = [remove_unnamed_cols((league_df.copy(deep=True))).dropna(subset=['position']) for league_df in league_df_list]"
   ]
  },
  {
   "cell_type": "code",
   "execution_count": null,
   "metadata": {},
   "outputs": [],
   "source": [
    "# Create a midfielder summary statistics table for each league in the 22/23 season:\n",
    "mid_2223_stat_df_list = [key_stats_table(clean_league_df, test_stat_dict, 'MF', 2223) for clean_league_df in cleaned_league_df_list]\n",
    "\n",
    "# Output the desired result:\n",
    "mid_2223_stat_df_list[1]"
   ]
  }
 ],
 "metadata": {
  "kernelspec": {
   "display_name": "Python 3",
   "language": "python",
   "name": "python3"
  },
  "language_info": {
   "codemirror_mode": {
    "name": "ipython",
    "version": 3
   },
   "file_extension": ".py",
   "mimetype": "text/x-python",
   "name": "python",
   "nbconvert_exporter": "python",
   "pygments_lexer": "ipython3",
   "version": "3.10.7"
  }
 },
 "nbformat": 4,
 "nbformat_minor": 2
}
